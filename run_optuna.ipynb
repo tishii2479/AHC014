{
 "cells": [
  {
   "cell_type": "code",
   "execution_count": 50,
   "metadata": {},
   "outputs": [],
   "source": [
    "import multiprocessing\n",
    "import subprocess\n",
    "\n",
    "import optuna\n",
    "from run_optuna import f\n",
    "\n",
    "using_testcase_num = 200\n",
    "total_testcase_num = 200\n",
    "n_trials = 200\n",
    "\n",
    "\n",
    "def wrapper(args):\n",
    "    mean = 0\n",
    "    using_tastcases = [i for i in range(using_testcase_num)]\n",
    "    with multiprocessing.Pool(max(1, multiprocessing.cpu_count() - 2)) as pool:\n",
    "        mean = sum(pool.map(f, [[i] + args for i in using_tastcases]))\n",
    "    mean /= using_testcase_num\n",
    "    return mean\n",
    "\n",
    "\n",
    "def objective(trial):\n",
    "    a = trial.suggest_float(\"a\", 4e2, 6e2)\n",
    "    b = trial.suggest_float(\"b\", 1e1, 5e1)\n",
    "    c = trial.suggest_float(\"c\", 1e3, 3e3)\n",
    "    score = wrapper([a, b, c])\n",
    "    print(\"a: %1.3f, b: %1.3f, c: %1.3f, score: %f\" % (a, b, c, score))\n",
    "    return score"
   ]
  },
  {
   "cell_type": "code",
   "execution_count": 51,
   "metadata": {},
   "outputs": [
    {
     "name": "stderr",
     "output_type": "stream",
     "text": [
      "\u001b[32m[I 2022-10-01 00:50:19,158]\u001b[0m A new study created in memory with name: no-name-7f8489a1-6956-4d2f-bd60-7af6851c59e4\u001b[0m\n"
     ]
    }
   ],
   "source": [
    "# 探索\n",
    "study = optuna.create_study(direction=\"maximize\")"
   ]
  },
  {
   "cell_type": "code",
   "execution_count": 52,
   "metadata": {},
   "outputs": [
    {
     "name": "stderr",
     "output_type": "stream",
     "text": [
      "\u001b[32m[I 2022-10-01 00:53:19,141]\u001b[0m Trial 0 finished with value: 1196688.555 and parameters: {'a': 572.0543176981356, 'b': 15.479068128945666, 'c': 1866.6853555956798}. Best is trial 0 with value: 1196688.555.\u001b[0m\n"
     ]
    },
    {
     "name": "stdout",
     "output_type": "stream",
     "text": [
      "a: 572.054, b: 15.479, c: 1866.685, score: 1196688.555000\n"
     ]
    },
    {
     "name": "stderr",
     "output_type": "stream",
     "text": [
      "\u001b[32m[I 2022-10-01 00:56:18,636]\u001b[0m Trial 1 finished with value: 1199941.12 and parameters: {'a': 596.6759364027283, 'b': 19.48894761940229, 'c': 2774.505211748001}. Best is trial 1 with value: 1199941.12.\u001b[0m\n"
     ]
    },
    {
     "name": "stdout",
     "output_type": "stream",
     "text": [
      "a: 596.676, b: 19.489, c: 2774.505, score: 1199941.120000\n"
     ]
    },
    {
     "name": "stderr",
     "output_type": "stream",
     "text": [
      "\u001b[32m[I 2022-10-01 00:59:18,136]\u001b[0m Trial 2 finished with value: 1215454.16 and parameters: {'a': 510.25062195023855, 'b': 12.429717124773326, 'c': 1673.3648090093207}. Best is trial 2 with value: 1215454.16.\u001b[0m\n"
     ]
    },
    {
     "name": "stdout",
     "output_type": "stream",
     "text": [
      "a: 510.251, b: 12.430, c: 1673.365, score: 1215454.160000\n"
     ]
    },
    {
     "name": "stderr",
     "output_type": "stream",
     "text": [
      "\u001b[32m[I 2022-10-01 01:02:17,631]\u001b[0m Trial 3 finished with value: 1201450.455 and parameters: {'a': 510.20413288559075, 'b': 42.91635767842534, 'c': 2938.0078548729434}. Best is trial 2 with value: 1215454.16.\u001b[0m\n"
     ]
    },
    {
     "name": "stdout",
     "output_type": "stream",
     "text": [
      "a: 510.204, b: 42.916, c: 2938.008, score: 1201450.455000\n"
     ]
    },
    {
     "name": "stderr",
     "output_type": "stream",
     "text": [
      "\u001b[32m[I 2022-10-01 01:05:17,125]\u001b[0m Trial 4 finished with value: 1211325.03 and parameters: {'a': 503.44027174383524, 'b': 49.84206330784818, 'c': 1931.9346231097238}. Best is trial 2 with value: 1215454.16.\u001b[0m\n"
     ]
    },
    {
     "name": "stdout",
     "output_type": "stream",
     "text": [
      "a: 503.440, b: 49.842, c: 1931.935, score: 1211325.030000\n"
     ]
    },
    {
     "name": "stderr",
     "output_type": "stream",
     "text": [
      "\u001b[32m[I 2022-10-01 01:08:16,635]\u001b[0m Trial 5 finished with value: 1214825.645 and parameters: {'a': 489.42651872918907, 'b': 34.963619041125185, 'c': 1270.0355176360083}. Best is trial 2 with value: 1215454.16.\u001b[0m\n"
     ]
    },
    {
     "name": "stdout",
     "output_type": "stream",
     "text": [
      "a: 489.427, b: 34.964, c: 1270.036, score: 1214825.645000\n"
     ]
    },
    {
     "name": "stderr",
     "output_type": "stream",
     "text": [
      "\u001b[32m[I 2022-10-01 01:11:16,140]\u001b[0m Trial 6 finished with value: 1205061.195 and parameters: {'a': 559.6446669453115, 'b': 13.234183345680401, 'c': 1280.891213948692}. Best is trial 2 with value: 1215454.16.\u001b[0m\n"
     ]
    },
    {
     "name": "stdout",
     "output_type": "stream",
     "text": [
      "a: 559.645, b: 13.234, c: 1280.891, score: 1205061.195000\n"
     ]
    },
    {
     "name": "stderr",
     "output_type": "stream",
     "text": [
      "\u001b[32m[I 2022-10-01 01:14:15,640]\u001b[0m Trial 7 finished with value: 1190395.615 and parameters: {'a': 536.3610711184484, 'b': 41.65684392372634, 'c': 2521.153439139627}. Best is trial 2 with value: 1215454.16.\u001b[0m\n"
     ]
    },
    {
     "name": "stdout",
     "output_type": "stream",
     "text": [
      "a: 536.361, b: 41.657, c: 2521.153, score: 1190395.615000\n"
     ]
    },
    {
     "name": "stderr",
     "output_type": "stream",
     "text": [
      "\u001b[32m[I 2022-10-01 01:17:15,127]\u001b[0m Trial 8 finished with value: 1198364.98 and parameters: {'a': 516.5708574715758, 'b': 42.620642977421014, 'c': 1867.4574553342431}. Best is trial 2 with value: 1215454.16.\u001b[0m\n"
     ]
    },
    {
     "name": "stdout",
     "output_type": "stream",
     "text": [
      "a: 516.571, b: 42.621, c: 1867.457, score: 1198364.980000\n"
     ]
    },
    {
     "name": "stderr",
     "output_type": "stream",
     "text": [
      "\u001b[32m[I 2022-10-01 01:20:14,617]\u001b[0m Trial 9 finished with value: 1216361.875 and parameters: {'a': 458.9655523956156, 'b': 21.46250986123569, 'c': 2528.7294227595967}. Best is trial 9 with value: 1216361.875.\u001b[0m\n"
     ]
    },
    {
     "name": "stdout",
     "output_type": "stream",
     "text": [
      "a: 458.966, b: 21.463, c: 2528.729, score: 1216361.875000\n"
     ]
    },
    {
     "name": "stderr",
     "output_type": "stream",
     "text": [
      "\u001b[32m[I 2022-10-01 01:23:14,118]\u001b[0m Trial 10 finished with value: 1219629.195 and parameters: {'a': 426.47369688268765, 'b': 24.79706987468976, 'c': 2322.828163718313}. Best is trial 10 with value: 1219629.195.\u001b[0m\n"
     ]
    },
    {
     "name": "stdout",
     "output_type": "stream",
     "text": [
      "a: 426.474, b: 24.797, c: 2322.828, score: 1219629.195000\n"
     ]
    },
    {
     "name": "stderr",
     "output_type": "stream",
     "text": [
      "\u001b[32m[I 2022-10-01 01:26:13,614]\u001b[0m Trial 11 finished with value: 1213839.62 and parameters: {'a': 435.0416434744478, 'b': 25.02333777387496, 'c': 2375.631503554576}. Best is trial 10 with value: 1219629.195.\u001b[0m\n"
     ]
    },
    {
     "name": "stdout",
     "output_type": "stream",
     "text": [
      "a: 435.042, b: 25.023, c: 2375.632, score: 1213839.620000\n"
     ]
    },
    {
     "name": "stderr",
     "output_type": "stream",
     "text": [
      "\u001b[32m[I 2022-10-01 01:29:13,107]\u001b[0m Trial 12 finished with value: 1209389.495 and parameters: {'a': 407.13228172517296, 'b': 26.446306933544292, 'c': 2289.9968844018304}. Best is trial 10 with value: 1219629.195.\u001b[0m\n"
     ]
    },
    {
     "name": "stdout",
     "output_type": "stream",
     "text": [
      "a: 407.132, b: 26.446, c: 2289.997, score: 1209389.495000\n"
     ]
    },
    {
     "name": "stderr",
     "output_type": "stream",
     "text": [
      "\u001b[32m[I 2022-10-01 01:32:12,600]\u001b[0m Trial 13 finished with value: 1216214.38 and parameters: {'a': 457.77301630416434, 'b': 31.766976820735735, 'c': 2564.5630997151634}. Best is trial 10 with value: 1219629.195.\u001b[0m\n"
     ]
    },
    {
     "name": "stdout",
     "output_type": "stream",
     "text": [
      "a: 457.773, b: 31.767, c: 2564.563, score: 1216214.380000\n"
     ]
    },
    {
     "name": "stderr",
     "output_type": "stream",
     "text": [
      "\u001b[32m[I 2022-10-01 01:35:12,093]\u001b[0m Trial 14 finished with value: 1208995.92 and parameters: {'a': 457.4458514469682, 'b': 23.184557008971527, 'c': 2117.3729001268307}. Best is trial 10 with value: 1219629.195.\u001b[0m\n"
     ]
    },
    {
     "name": "stdout",
     "output_type": "stream",
     "text": [
      "a: 457.446, b: 23.185, c: 2117.373, score: 1208995.920000\n"
     ]
    },
    {
     "name": "stderr",
     "output_type": "stream",
     "text": [
      "\u001b[32m[I 2022-10-01 01:38:11,589]\u001b[0m Trial 15 finished with value: 1212252.235 and parameters: {'a': 400.2346402566011, 'b': 19.774882274683435, 'c': 2704.0839425534473}. Best is trial 10 with value: 1219629.195.\u001b[0m\n"
     ]
    },
    {
     "name": "stdout",
     "output_type": "stream",
     "text": [
      "a: 400.235, b: 19.775, c: 2704.084, score: 1212252.235000\n"
     ]
    },
    {
     "name": "stderr",
     "output_type": "stream",
     "text": [
      "\u001b[32m[I 2022-10-01 01:41:11,083]\u001b[0m Trial 16 finished with value: 1205091.855 and parameters: {'a': 436.9549686267087, 'b': 33.2607355519689, 'c': 2212.9084270073763}. Best is trial 10 with value: 1219629.195.\u001b[0m\n"
     ]
    },
    {
     "name": "stdout",
     "output_type": "stream",
     "text": [
      "a: 436.955, b: 33.261, c: 2212.908, score: 1205091.855000\n"
     ]
    },
    {
     "name": "stderr",
     "output_type": "stream",
     "text": [
      "\u001b[32m[I 2022-10-01 01:44:10,579]\u001b[0m Trial 17 finished with value: 1206146.565 and parameters: {'a': 467.8845933081302, 'b': 27.582548531141256, 'c': 2438.819539468176}. Best is trial 10 with value: 1219629.195.\u001b[0m\n"
     ]
    },
    {
     "name": "stdout",
     "output_type": "stream",
     "text": [
      "a: 467.885, b: 27.583, c: 2438.820, score: 1206146.565000\n"
     ]
    },
    {
     "name": "stderr",
     "output_type": "stream",
     "text": [
      "\u001b[32m[I 2022-10-01 01:47:10,094]\u001b[0m Trial 18 finished with value: 1202588.665 and parameters: {'a': 428.2439017059119, 'b': 19.454572860159157, 'c': 1517.6355522801925}. Best is trial 10 with value: 1219629.195.\u001b[0m\n"
     ]
    },
    {
     "name": "stdout",
     "output_type": "stream",
     "text": [
      "a: 428.244, b: 19.455, c: 1517.636, score: 1202588.665000\n"
     ]
    },
    {
     "name": "stderr",
     "output_type": "stream",
     "text": [
      "\u001b[32m[I 2022-10-01 01:50:09,591]\u001b[0m Trial 19 finished with value: 1217697.3 and parameters: {'a': 481.7546188835052, 'b': 37.00395207038926, 'c': 1027.6505161275627}. Best is trial 10 with value: 1219629.195.\u001b[0m\n"
     ]
    },
    {
     "name": "stdout",
     "output_type": "stream",
     "text": [
      "a: 481.755, b: 37.004, c: 1027.651, score: 1217697.300000\n"
     ]
    },
    {
     "name": "stderr",
     "output_type": "stream",
     "text": [
      "\u001b[32m[I 2022-10-01 01:53:09,087]\u001b[0m Trial 20 finished with value: 1219276.27 and parameters: {'a': 482.04456788299166, 'b': 35.18820639689751, 'c': 1063.2982659962254}. Best is trial 10 with value: 1219629.195.\u001b[0m\n"
     ]
    },
    {
     "name": "stdout",
     "output_type": "stream",
     "text": [
      "a: 482.045, b: 35.188, c: 1063.298, score: 1219276.270000\n"
     ]
    },
    {
     "name": "stderr",
     "output_type": "stream",
     "text": [
      "\u001b[32m[I 2022-10-01 01:56:08,578]\u001b[0m Trial 21 finished with value: 1215496.35 and parameters: {'a': 479.06086452206523, 'b': 37.523331203249086, 'c': 1026.3208416742896}. Best is trial 10 with value: 1219629.195.\u001b[0m\n"
     ]
    },
    {
     "name": "stdout",
     "output_type": "stream",
     "text": [
      "a: 479.061, b: 37.523, c: 1026.321, score: 1215496.350000\n"
     ]
    },
    {
     "name": "stderr",
     "output_type": "stream",
     "text": [
      "\u001b[32m[I 2022-10-01 01:59:08,071]\u001b[0m Trial 22 finished with value: 1222527.11 and parameters: {'a': 481.70598118167493, 'b': 37.55236790614844, 'c': 1066.2532742627209}. Best is trial 22 with value: 1222527.11.\u001b[0m\n"
     ]
    },
    {
     "name": "stdout",
     "output_type": "stream",
     "text": [
      "a: 481.706, b: 37.552, c: 1066.253, score: 1222527.110000\n"
     ]
    },
    {
     "name": "stderr",
     "output_type": "stream",
     "text": [
      "\u001b[32m[I 2022-10-01 02:02:07,566]\u001b[0m Trial 23 finished with value: 1213242.985 and parameters: {'a': 534.7912052418653, 'b': 29.239276633855763, 'c': 1296.3046927569164}. Best is trial 22 with value: 1222527.11.\u001b[0m\n"
     ]
    },
    {
     "name": "stdout",
     "output_type": "stream",
     "text": [
      "a: 534.791, b: 29.239, c: 1296.305, score: 1213242.985000\n"
     ]
    },
    {
     "name": "stderr",
     "output_type": "stream",
     "text": [
      "\u001b[32m[I 2022-10-01 02:05:07,061]\u001b[0m Trial 24 finished with value: 1218344.05 and parameters: {'a': 415.573735124226, 'b': 39.39130244768927, 'c': 1545.450136281018}. Best is trial 22 with value: 1222527.11.\u001b[0m\n"
     ]
    },
    {
     "name": "stdout",
     "output_type": "stream",
     "text": [
      "a: 415.574, b: 39.391, c: 1545.450, score: 1218344.050000\n"
     ]
    },
    {
     "name": "stderr",
     "output_type": "stream",
     "text": [
      "\u001b[32m[I 2022-10-01 02:08:06,554]\u001b[0m Trial 25 finished with value: 1189914.595 and parameters: {'a': 439.0807072567778, 'b': 46.32469385967612, 'c': 1418.6325535613178}. Best is trial 22 with value: 1222527.11.\u001b[0m\n"
     ]
    },
    {
     "name": "stdout",
     "output_type": "stream",
     "text": [
      "a: 439.081, b: 46.325, c: 1418.633, score: 1189914.595000\n"
     ]
    },
    {
     "name": "stderr",
     "output_type": "stream",
     "text": [
      "\u001b[32m[I 2022-10-01 02:11:06,043]\u001b[0m Trial 26 finished with value: 1207014.35 and parameters: {'a': 490.31225603785526, 'b': 30.965258575435136, 'c': 1128.7205489033695}. Best is trial 22 with value: 1222527.11.\u001b[0m\n"
     ]
    },
    {
     "name": "stdout",
     "output_type": "stream",
     "text": [
      "a: 490.312, b: 30.965, c: 1128.721, score: 1207014.350000\n"
     ]
    },
    {
     "name": "stderr",
     "output_type": "stream",
     "text": [
      "\u001b[32m[I 2022-10-01 02:14:05,536]\u001b[0m Trial 27 finished with value: 1213863.85 and parameters: {'a': 527.9917323028152, 'b': 34.82763566394515, 'c': 1734.576154180761}. Best is trial 22 with value: 1222527.11.\u001b[0m\n"
     ]
    },
    {
     "name": "stdout",
     "output_type": "stream",
     "text": [
      "a: 527.992, b: 34.828, c: 1734.576, score: 1213863.850000\n"
     ]
    },
    {
     "name": "stderr",
     "output_type": "stream",
     "text": [
      "\u001b[32m[I 2022-10-01 02:17:05,027]\u001b[0m Trial 28 finished with value: 1205763.33 and parameters: {'a': 449.252605429794, 'b': 28.8531399946245, 'c': 2064.8875711328906}. Best is trial 22 with value: 1222527.11.\u001b[0m\n"
     ]
    },
    {
     "name": "stdout",
     "output_type": "stream",
     "text": [
      "a: 449.253, b: 28.853, c: 2064.888, score: 1205763.330000\n"
     ]
    },
    {
     "name": "stderr",
     "output_type": "stream",
     "text": [
      "\u001b[32m[I 2022-10-01 02:20:04,522]\u001b[0m Trial 29 finished with value: 1198142.595 and parameters: {'a': 561.8481504470057, 'b': 40.196511821823094, 'c': 1138.7643548921817}. Best is trial 22 with value: 1222527.11.\u001b[0m\n"
     ]
    },
    {
     "name": "stdout",
     "output_type": "stream",
     "text": [
      "a: 561.848, b: 40.197, c: 1138.764, score: 1198142.595000\n"
     ]
    },
    {
     "name": "stderr",
     "output_type": "stream",
     "text": [
      "\u001b[32m[I 2022-10-01 02:23:04,012]\u001b[0m Trial 30 finished with value: 1213789.18 and parameters: {'a': 472.56670689545535, 'b': 46.40452549526686, 'c': 1680.9527673089074}. Best is trial 22 with value: 1222527.11.\u001b[0m\n"
     ]
    },
    {
     "name": "stdout",
     "output_type": "stream",
     "text": [
      "a: 472.567, b: 46.405, c: 1680.953, score: 1213789.180000\n"
     ]
    },
    {
     "name": "stderr",
     "output_type": "stream",
     "text": [
      "\u001b[32m[I 2022-10-01 02:26:03,505]\u001b[0m Trial 31 finished with value: 1211620.625 and parameters: {'a': 419.3150067646342, 'b': 38.79888006624493, 'c': 1460.4004949804403}. Best is trial 22 with value: 1222527.11.\u001b[0m\n"
     ]
    },
    {
     "name": "stdout",
     "output_type": "stream",
     "text": [
      "a: 419.315, b: 38.799, c: 1460.400, score: 1211620.625000\n"
     ]
    },
    {
     "name": "stderr",
     "output_type": "stream",
     "text": [
      "\u001b[32m[I 2022-10-01 02:29:03,000]\u001b[0m Trial 32 finished with value: 1214554.25 and parameters: {'a': 417.30946515575596, 'b': 35.29024891707448, 'c': 1569.7098752906138}. Best is trial 22 with value: 1222527.11.\u001b[0m\n"
     ]
    },
    {
     "name": "stdout",
     "output_type": "stream",
     "text": [
      "a: 417.309, b: 35.290, c: 1569.710, score: 1214554.250000\n"
     ]
    },
    {
     "name": "stderr",
     "output_type": "stream",
     "text": [
      "\u001b[32m[I 2022-10-01 02:32:02,494]\u001b[0m Trial 33 finished with value: 1200875.165 and parameters: {'a': 599.4004221033963, 'b': 32.41076075589236, 'c': 1172.1574068762502}. Best is trial 22 with value: 1222527.11.\u001b[0m\n"
     ]
    },
    {
     "name": "stdout",
     "output_type": "stream",
     "text": [
      "a: 599.400, b: 32.411, c: 1172.157, score: 1200875.165000\n"
     ]
    },
    {
     "name": "stderr",
     "output_type": "stream",
     "text": [
      "\u001b[32m[I 2022-10-01 02:35:01,990]\u001b[0m Trial 34 finished with value: 1211126.675 and parameters: {'a': 415.72370641856, 'b': 44.809107002624565, 'c': 1369.355691506637}. Best is trial 22 with value: 1222527.11.\u001b[0m\n"
     ]
    },
    {
     "name": "stdout",
     "output_type": "stream",
     "text": [
      "a: 415.724, b: 44.809, c: 1369.356, score: 1211126.675000\n"
     ]
    },
    {
     "name": "stderr",
     "output_type": "stream",
     "text": [
      "\u001b[32m[I 2022-10-01 02:38:01,483]\u001b[0m Trial 35 finished with value: 1211877.045 and parameters: {'a': 443.79629289704303, 'b': 39.71179997322936, 'c': 1735.3283375497508}. Best is trial 22 with value: 1222527.11.\u001b[0m\n"
     ]
    },
    {
     "name": "stdout",
     "output_type": "stream",
     "text": [
      "a: 443.796, b: 39.712, c: 1735.328, score: 1211877.045000\n"
     ]
    },
    {
     "name": "stderr",
     "output_type": "stream",
     "text": [
      "\u001b[32m[I 2022-10-01 02:41:00,974]\u001b[0m Trial 36 finished with value: 1215302.67 and parameters: {'a': 499.10728072966344, 'b': 16.388244756111483, 'c': 1001.19535868608}. Best is trial 22 with value: 1222527.11.\u001b[0m\n"
     ]
    },
    {
     "name": "stdout",
     "output_type": "stream",
     "text": [
      "a: 499.107, b: 16.388, c: 1001.195, score: 1215302.670000\n"
     ]
    },
    {
     "name": "stderr",
     "output_type": "stream",
     "text": [
      "\u001b[32m[I 2022-10-01 02:44:00,473]\u001b[0m Trial 37 finished with value: 1203822.56 and parameters: {'a': 423.80277968382967, 'b': 36.57658903402133, 'c': 1947.6815335361155}. Best is trial 22 with value: 1222527.11.\u001b[0m\n"
     ]
    },
    {
     "name": "stdout",
     "output_type": "stream",
     "text": [
      "a: 423.803, b: 36.577, c: 1947.682, score: 1203822.560000\n"
     ]
    },
    {
     "name": "stderr",
     "output_type": "stream",
     "text": [
      "\u001b[32m[I 2022-10-01 02:46:59,970]\u001b[0m Trial 38 finished with value: 1199085.955 and parameters: {'a': 577.5261754548504, 'b': 49.6851338661437, 'c': 1196.5490290934003}. Best is trial 22 with value: 1222527.11.\u001b[0m\n"
     ]
    },
    {
     "name": "stdout",
     "output_type": "stream",
     "text": [
      "a: 577.526, b: 49.685, c: 1196.549, score: 1199085.955000\n"
     ]
    },
    {
     "name": "stderr",
     "output_type": "stream",
     "text": [
      "\u001b[32m[I 2022-10-01 02:49:59,463]\u001b[0m Trial 39 finished with value: 1211059.195 and parameters: {'a': 406.0818145459845, 'b': 33.68311942372926, 'c': 2917.490729142297}. Best is trial 22 with value: 1222527.11.\u001b[0m\n"
     ]
    },
    {
     "name": "stdout",
     "output_type": "stream",
     "text": [
      "a: 406.082, b: 33.683, c: 2917.491, score: 1211059.195000\n"
     ]
    },
    {
     "name": "stderr",
     "output_type": "stream",
     "text": [
      "\u001b[32m[I 2022-10-01 02:52:58,957]\u001b[0m Trial 40 finished with value: 1202967.19 and parameters: {'a': 517.9018700101198, 'b': 41.65835533909055, 'c': 1806.9297905485605}. Best is trial 22 with value: 1222527.11.\u001b[0m\n"
     ]
    },
    {
     "name": "stdout",
     "output_type": "stream",
     "text": [
      "a: 517.902, b: 41.658, c: 1806.930, score: 1202967.190000\n"
     ]
    },
    {
     "name": "stderr",
     "output_type": "stream",
     "text": [
      "\u001b[32m[I 2022-10-01 02:55:58,452]\u001b[0m Trial 41 finished with value: 1204163.95 and parameters: {'a': 487.71732026693894, 'b': 37.36115438274775, 'c': 1069.6945518222906}. Best is trial 22 with value: 1222527.11.\u001b[0m\n"
     ]
    },
    {
     "name": "stdout",
     "output_type": "stream",
     "text": [
      "a: 487.717, b: 37.361, c: 1069.695, score: 1204163.950000\n"
     ]
    },
    {
     "name": "stderr",
     "output_type": "stream",
     "text": [
      "\u001b[32m[I 2022-10-01 02:58:57,945]\u001b[0m Trial 42 finished with value: 1203306.725 and parameters: {'a': 471.51110265790123, 'b': 39.26447215418585, 'c': 1298.565665962608}. Best is trial 22 with value: 1222527.11.\u001b[0m\n"
     ]
    },
    {
     "name": "stdout",
     "output_type": "stream",
     "text": [
      "a: 471.511, b: 39.264, c: 1298.566, score: 1203306.725000\n"
     ]
    },
    {
     "name": "stderr",
     "output_type": "stream",
     "text": [
      "\u001b[32m[I 2022-10-01 03:01:57,437]\u001b[0m Trial 43 finished with value: 1189372.88 and parameters: {'a': 501.13431468235933, 'b': 10.532432566934038, 'c': 1600.1652460619468}. Best is trial 22 with value: 1222527.11.\u001b[0m\n"
     ]
    },
    {
     "name": "stdout",
     "output_type": "stream",
     "text": [
      "a: 501.134, b: 10.532, c: 1600.165, score: 1189372.880000\n"
     ]
    },
    {
     "name": "stderr",
     "output_type": "stream",
     "text": [
      "\u001b[32m[I 2022-10-01 03:04:56,937]\u001b[0m Trial 44 finished with value: 1196428.285 and parameters: {'a': 450.462721711306, 'b': 35.50162460052435, 'c': 1194.2195948472272}. Best is trial 22 with value: 1222527.11.\u001b[0m\n"
     ]
    },
    {
     "name": "stdout",
     "output_type": "stream",
     "text": [
      "a: 450.463, b: 35.502, c: 1194.220, score: 1196428.285000\n"
     ]
    },
    {
     "name": "stderr",
     "output_type": "stream",
     "text": [
      "\u001b[32m[I 2022-10-01 03:07:56,436]\u001b[0m Trial 45 finished with value: 1209806.745 and parameters: {'a': 484.75351449638686, 'b': 43.525423181694485, 'c': 1090.901248897539}. Best is trial 22 with value: 1222527.11.\u001b[0m\n"
     ]
    },
    {
     "name": "stdout",
     "output_type": "stream",
     "text": [
      "a: 484.754, b: 43.525, c: 1090.901, score: 1209806.745000\n"
     ]
    },
    {
     "name": "stderr",
     "output_type": "stream",
     "text": [
      "\u001b[32m[I 2022-10-01 03:10:55,931]\u001b[0m Trial 46 finished with value: 1205151.93 and parameters: {'a': 465.26147565810044, 'b': 25.156697572718144, 'c': 1348.4533984480677}. Best is trial 22 with value: 1222527.11.\u001b[0m\n"
     ]
    },
    {
     "name": "stdout",
     "output_type": "stream",
     "text": [
      "a: 465.261, b: 25.157, c: 1348.453, score: 1205151.930000\n"
     ]
    },
    {
     "name": "stderr",
     "output_type": "stream",
     "text": [
      "\u001b[32m[I 2022-10-01 03:13:55,428]\u001b[0m Trial 47 finished with value: 1209303.71 and parameters: {'a': 430.68091990584384, 'b': 30.63174588341444, 'c': 1204.7316721328423}. Best is trial 22 with value: 1222527.11.\u001b[0m\n"
     ]
    },
    {
     "name": "stdout",
     "output_type": "stream",
     "text": [
      "a: 430.681, b: 30.632, c: 1204.732, score: 1209303.710000\n"
     ]
    },
    {
     "name": "stderr",
     "output_type": "stream",
     "text": [
      "\u001b[32m[I 2022-10-01 03:16:54,925]\u001b[0m Trial 48 finished with value: 1202492.01 and parameters: {'a': 493.577611875905, 'b': 38.09563893076789, 'c': 2162.2507344867745}. Best is trial 22 with value: 1222527.11.\u001b[0m\n"
     ]
    },
    {
     "name": "stdout",
     "output_type": "stream",
     "text": [
      "a: 493.578, b: 38.096, c: 2162.251, score: 1202492.010000\n"
     ]
    },
    {
     "name": "stderr",
     "output_type": "stream",
     "text": [
      "\u001b[32m[I 2022-10-01 03:19:54,418]\u001b[0m Trial 49 finished with value: 1202693.32 and parameters: {'a': 508.05347310412384, 'b': 41.4744466133229, 'c': 2257.9992725806096}. Best is trial 22 with value: 1222527.11.\u001b[0m\n"
     ]
    },
    {
     "name": "stdout",
     "output_type": "stream",
     "text": [
      "a: 508.053, b: 41.474, c: 2257.999, score: 1202693.320000\n"
     ]
    },
    {
     "name": "stderr",
     "output_type": "stream",
     "text": [
      "\u001b[32m[I 2022-10-01 03:22:53,934]\u001b[0m Trial 50 finished with value: 1215166.435 and parameters: {'a': 480.20058639253574, 'b': 22.852342128214538, 'c': 2622.4170663097507}. Best is trial 22 with value: 1222527.11.\u001b[0m\n"
     ]
    },
    {
     "name": "stdout",
     "output_type": "stream",
     "text": [
      "a: 480.201, b: 22.852, c: 2622.417, score: 1215166.435000\n"
     ]
    },
    {
     "name": "stderr",
     "output_type": "stream",
     "text": [
      "\u001b[32m[I 2022-10-01 03:25:53,426]\u001b[0m Trial 51 finished with value: 1200196.985 and parameters: {'a': 459.0926758692215, 'b': 22.05418220177586, 'c': 2368.139172224444}. Best is trial 22 with value: 1222527.11.\u001b[0m\n"
     ]
    },
    {
     "name": "stdout",
     "output_type": "stream",
     "text": [
      "a: 459.093, b: 22.054, c: 2368.139, score: 1200196.985000\n"
     ]
    },
    {
     "name": "stderr",
     "output_type": "stream",
     "text": [
      "\u001b[32m[I 2022-10-01 03:28:52,919]\u001b[0m Trial 52 finished with value: 1207844.105 and parameters: {'a': 479.2595160935777, 'b': 20.373773486174883, 'c': 2488.201546912689}. Best is trial 22 with value: 1222527.11.\u001b[0m\n"
     ]
    },
    {
     "name": "stdout",
     "output_type": "stream",
     "text": [
      "a: 479.260, b: 20.374, c: 2488.202, score: 1207844.105000\n"
     ]
    },
    {
     "name": "stderr",
     "output_type": "stream",
     "text": [
      "\u001b[32m[I 2022-10-01 03:31:52,411]\u001b[0m Trial 53 finished with value: 1198249.425 and parameters: {'a': 462.31137615377594, 'b': 16.78089158221961, 'c': 2790.47918019125}. Best is trial 22 with value: 1222527.11.\u001b[0m\n"
     ]
    },
    {
     "name": "stdout",
     "output_type": "stream",
     "text": [
      "a: 462.311, b: 16.781, c: 2790.479, score: 1198249.425000\n"
     ]
    },
    {
     "name": "stderr",
     "output_type": "stream",
     "text": [
      "\u001b[32m[I 2022-10-01 03:34:51,908]\u001b[0m Trial 54 finished with value: 1214595.085 and parameters: {'a': 445.27858518022725, 'b': 28.17609669907626, 'c': 2637.037130673857}. Best is trial 22 with value: 1222527.11.\u001b[0m\n"
     ]
    },
    {
     "name": "stdout",
     "output_type": "stream",
     "text": [
      "a: 445.279, b: 28.176, c: 2637.037, score: 1214595.085000\n"
     ]
    },
    {
     "name": "stderr",
     "output_type": "stream",
     "text": [
      "\u001b[32m[I 2022-10-01 03:37:51,400]\u001b[0m Trial 55 finished with value: 1213796.935 and parameters: {'a': 453.9236358898126, 'b': 25.62343683816911, 'c': 2349.161522597601}. Best is trial 22 with value: 1222527.11.\u001b[0m\n"
     ]
    },
    {
     "name": "stdout",
     "output_type": "stream",
     "text": [
      "a: 453.924, b: 25.623, c: 2349.162, score: 1213796.935000\n"
     ]
    },
    {
     "name": "stderr",
     "output_type": "stream",
     "text": [
      "\u001b[32m[I 2022-10-01 03:40:50,897]\u001b[0m Trial 56 finished with value: 1229785.945 and parameters: {'a': 471.45839694200276, 'b': 36.431488928245415, 'c': 1004.5018205014252}. Best is trial 56 with value: 1229785.945.\u001b[0m\n"
     ]
    },
    {
     "name": "stdout",
     "output_type": "stream",
     "text": [
      "a: 471.458, b: 36.431, c: 1004.502, score: 1229785.945000\n"
     ]
    },
    {
     "name": "stderr",
     "output_type": "stream",
     "text": [
      "\u001b[32m[I 2022-10-01 03:43:50,394]\u001b[0m Trial 57 finished with value: 1211465.835 and parameters: {'a': 516.3054044952271, 'b': 33.744297542006294, 'c': 1051.8124069221303}. Best is trial 56 with value: 1229785.945.\u001b[0m\n"
     ]
    },
    {
     "name": "stdout",
     "output_type": "stream",
     "text": [
      "a: 516.305, b: 33.744, c: 1051.812, score: 1211465.835000\n"
     ]
    },
    {
     "name": "stderr",
     "output_type": "stream",
     "text": [
      "\u001b[32m[I 2022-10-01 03:46:49,909]\u001b[0m Trial 58 finished with value: 1200520.91 and parameters: {'a': 470.5699794924209, 'b': 36.26961877767891, 'c': 1260.303867215504}. Best is trial 56 with value: 1229785.945.\u001b[0m\n"
     ]
    },
    {
     "name": "stdout",
     "output_type": "stream",
     "text": [
      "a: 470.570, b: 36.270, c: 1260.304, score: 1200520.910000\n"
     ]
    },
    {
     "name": "stderr",
     "output_type": "stream",
     "text": [
      "\u001b[32m[I 2022-10-01 03:49:49,405]\u001b[0m Trial 59 finished with value: 1210833.8 and parameters: {'a': 497.07466382443334, 'b': 40.676034766416464, 'c': 1106.0361876456377}. Best is trial 56 with value: 1229785.945.\u001b[0m\n"
     ]
    },
    {
     "name": "stdout",
     "output_type": "stream",
     "text": [
      "a: 497.075, b: 40.676, c: 1106.036, score: 1210833.800000\n"
     ]
    },
    {
     "name": "stderr",
     "output_type": "stream",
     "text": [
      "\u001b[32m[I 2022-10-01 03:52:48,900]\u001b[0m Trial 60 finished with value: 1210958.345 and parameters: {'a': 506.2984346333388, 'b': 32.51845301085224, 'c': 1477.3129392036972}. Best is trial 56 with value: 1229785.945.\u001b[0m\n"
     ]
    },
    {
     "name": "stdout",
     "output_type": "stream",
     "text": [
      "a: 506.298, b: 32.518, c: 1477.313, score: 1210958.345000\n"
     ]
    },
    {
     "name": "stderr",
     "output_type": "stream",
     "text": [
      "\u001b[32m[I 2022-10-01 03:55:48,401]\u001b[0m Trial 61 finished with value: 1208804.94 and parameters: {'a': 475.4581804787234, 'b': 18.409670448755705, 'c': 1045.2390460719964}. Best is trial 56 with value: 1229785.945.\u001b[0m\n"
     ]
    },
    {
     "name": "stdout",
     "output_type": "stream",
     "text": [
      "a: 475.458, b: 18.410, c: 1045.239, score: 1208804.940000\n"
     ]
    },
    {
     "name": "stderr",
     "output_type": "stream",
     "text": [
      "\u001b[32m[I 2022-10-01 03:58:47,896]\u001b[0m Trial 62 finished with value: 1203989.045 and parameters: {'a': 411.71630828882485, 'b': 34.526823844597175, 'c': 1238.5624563999486}. Best is trial 56 with value: 1229785.945.\u001b[0m\n"
     ]
    },
    {
     "name": "stdout",
     "output_type": "stream",
     "text": [
      "a: 411.716, b: 34.527, c: 1238.562, score: 1203989.045000\n"
     ]
    },
    {
     "name": "stderr",
     "output_type": "stream",
     "text": [
      "\u001b[32m[I 2022-10-01 04:01:47,394]\u001b[0m Trial 63 finished with value: 1213666.675 and parameters: {'a': 485.53970493671414, 'b': 38.157279743211504, 'c': 2034.0749831708417}. Best is trial 56 with value: 1229785.945.\u001b[0m\n"
     ]
    },
    {
     "name": "stdout",
     "output_type": "stream",
     "text": [
      "a: 485.540, b: 38.157, c: 2034.075, score: 1213666.675000\n"
     ]
    },
    {
     "name": "stderr",
     "output_type": "stream",
     "text": [
      "\u001b[32m[I 2022-10-01 04:04:46,892]\u001b[0m Trial 64 finished with value: 1207228.105 and parameters: {'a': 432.12454033695485, 'b': 23.774383486098614, 'c': 1151.846796136227}. Best is trial 56 with value: 1229785.945.\u001b[0m\n"
     ]
    },
    {
     "name": "stdout",
     "output_type": "stream",
     "text": [
      "a: 432.125, b: 23.774, c: 1151.847, score: 1207228.105000\n"
     ]
    },
    {
     "name": "stderr",
     "output_type": "stream",
     "text": [
      "\u001b[32m[I 2022-10-01 04:07:46,390]\u001b[0m Trial 65 finished with value: 1194390.495 and parameters: {'a': 423.89982997231164, 'b': 29.639949846645145, 'c': 2441.620654823675}. Best is trial 56 with value: 1229785.945.\u001b[0m\n"
     ]
    },
    {
     "name": "stdout",
     "output_type": "stream",
     "text": [
      "a: 423.900, b: 29.640, c: 2441.621, score: 1194390.495000\n"
     ]
    },
    {
     "name": "stderr",
     "output_type": "stream",
     "text": [
      "\u001b[32m[I 2022-10-01 04:10:45,883]\u001b[0m Trial 66 finished with value: 1214772.385 and parameters: {'a': 438.1342010652333, 'b': 36.95915448951972, 'c': 1331.970675671464}. Best is trial 56 with value: 1229785.945.\u001b[0m\n"
     ]
    },
    {
     "name": "stdout",
     "output_type": "stream",
     "text": [
      "a: 438.134, b: 36.959, c: 1331.971, score: 1214772.385000\n"
     ]
    },
    {
     "name": "stderr",
     "output_type": "stream",
     "text": [
      "\u001b[32m[I 2022-10-01 04:13:45,383]\u001b[0m Trial 67 finished with value: 1208611.835 and parameters: {'a': 402.48649417915505, 'b': 14.413386820322334, 'c': 1000.7868106074126}. Best is trial 56 with value: 1229785.945.\u001b[0m\n"
     ]
    },
    {
     "name": "stdout",
     "output_type": "stream",
     "text": [
      "a: 402.486, b: 14.413, c: 1000.787, score: 1208611.835000\n"
     ]
    },
    {
     "name": "stderr",
     "output_type": "stream",
     "text": [
      "\u001b[32m[I 2022-10-01 04:16:44,878]\u001b[0m Trial 68 finished with value: 1207485.43 and parameters: {'a': 462.51351305096495, 'b': 21.171126136725274, 'c': 2789.7378806406946}. Best is trial 56 with value: 1229785.945.\u001b[0m\n"
     ]
    },
    {
     "name": "stdout",
     "output_type": "stream",
     "text": [
      "a: 462.514, b: 21.171, c: 2789.738, score: 1207485.430000\n"
     ]
    },
    {
     "name": "stderr",
     "output_type": "stream",
     "text": [
      "\u001b[32m[I 2022-10-01 04:19:44,378]\u001b[0m Trial 69 finished with value: 1207046.295 and parameters: {'a': 443.8468525541077, 'b': 42.88574070936348, 'c': 1126.5798011002357}. Best is trial 56 with value: 1229785.945.\u001b[0m\n"
     ]
    },
    {
     "name": "stdout",
     "output_type": "stream",
     "text": [
      "a: 443.847, b: 42.886, c: 1126.580, score: 1207046.295000\n"
     ]
    },
    {
     "name": "stderr",
     "output_type": "stream",
     "text": [
      "\u001b[32m[I 2022-10-01 04:22:43,889]\u001b[0m Trial 70 finished with value: 1204096.45 and parameters: {'a': 494.5577295415642, 'b': 26.764862226676787, 'c': 1401.6549558082247}. Best is trial 56 with value: 1229785.945.\u001b[0m\n"
     ]
    },
    {
     "name": "stdout",
     "output_type": "stream",
     "text": [
      "a: 494.558, b: 26.765, c: 1401.655, score: 1204096.450000\n"
     ]
    },
    {
     "name": "stderr",
     "output_type": "stream",
     "text": [
      "\u001b[32m[I 2022-10-01 04:25:43,389]\u001b[0m Trial 71 finished with value: 1225688.97 and parameters: {'a': 452.6253533283906, 'b': 32.496392976275146, 'c': 2606.2456962063106}. Best is trial 56 with value: 1229785.945.\u001b[0m\n"
     ]
    },
    {
     "name": "stdout",
     "output_type": "stream",
     "text": [
      "a: 452.625, b: 32.496, c: 2606.246, score: 1225688.970000\n"
     ]
    },
    {
     "name": "stderr",
     "output_type": "stream",
     "text": [
      "\u001b[32m[I 2022-10-01 04:28:42,885]\u001b[0m Trial 72 finished with value: 1204575.065 and parameters: {'a': 466.5595040409874, 'b': 32.01189418161699, 'c': 2560.2534792800825}. Best is trial 56 with value: 1229785.945.\u001b[0m\n"
     ]
    },
    {
     "name": "stdout",
     "output_type": "stream",
     "text": [
      "a: 466.560, b: 32.012, c: 2560.253, score: 1204575.065000\n"
     ]
    },
    {
     "name": "stderr",
     "output_type": "stream",
     "text": [
      "\u001b[32m[I 2022-10-01 04:31:42,374]\u001b[0m Trial 73 finished with value: 1220965.85 and parameters: {'a': 453.7276408260082, 'b': 30.972635755521175, 'c': 2727.8632467336465}. Best is trial 56 with value: 1229785.945.\u001b[0m\n"
     ]
    },
    {
     "name": "stdout",
     "output_type": "stream",
     "text": [
      "a: 453.728, b: 30.973, c: 2727.863, score: 1220965.850000\n"
     ]
    },
    {
     "name": "stderr",
     "output_type": "stream",
     "text": [
      "\u001b[32m[I 2022-10-01 04:34:41,871]\u001b[0m Trial 74 finished with value: 1216352.51 and parameters: {'a': 452.0454500143485, 'b': 31.082273847253415, 'c': 2890.490745470794}. Best is trial 56 with value: 1229785.945.\u001b[0m\n"
     ]
    },
    {
     "name": "stdout",
     "output_type": "stream",
     "text": [
      "a: 452.045, b: 31.082, c: 2890.491, score: 1216352.510000\n"
     ]
    },
    {
     "name": "stderr",
     "output_type": "stream",
     "text": [
      "\u001b[32m[I 2022-10-01 04:37:41,364]\u001b[0m Trial 75 finished with value: 1198463.84 and parameters: {'a': 475.9347980322317, 'b': 35.33304693771512, 'c': 2718.0100971970764}. Best is trial 56 with value: 1229785.945.\u001b[0m\n"
     ]
    },
    {
     "name": "stdout",
     "output_type": "stream",
     "text": [
      "a: 475.935, b: 35.333, c: 2718.010, score: 1198463.840000\n"
     ]
    },
    {
     "name": "stderr",
     "output_type": "stream",
     "text": [
      "\u001b[32m[I 2022-10-01 04:40:40,866]\u001b[0m Trial 76 finished with value: 1206203.975 and parameters: {'a': 456.6497163991172, 'b': 33.65024793579318, 'c': 2989.418740165268}. Best is trial 56 with value: 1229785.945.\u001b[0m\n"
     ]
    },
    {
     "name": "stdout",
     "output_type": "stream",
     "text": [
      "a: 456.650, b: 33.650, c: 2989.419, score: 1206203.975000\n"
     ]
    },
    {
     "name": "stderr",
     "output_type": "stream",
     "text": [
      "\u001b[32m[I 2022-10-01 04:43:40,358]\u001b[0m Trial 77 finished with value: 1209281.125 and parameters: {'a': 423.5541450771231, 'b': 36.24057550429585, 'c': 2729.528955648855}. Best is trial 56 with value: 1229785.945.\u001b[0m\n"
     ]
    },
    {
     "name": "stdout",
     "output_type": "stream",
     "text": [
      "a: 423.554, b: 36.241, c: 2729.529, score: 1209281.125000\n"
     ]
    },
    {
     "name": "stderr",
     "output_type": "stream",
     "text": [
      "\u001b[32m[I 2022-10-01 04:46:39,852]\u001b[0m Trial 78 finished with value: 1197322.0 and parameters: {'a': 484.22460477619376, 'b': 38.77488705422655, 'c': 2621.5486509046027}. Best is trial 56 with value: 1229785.945.\u001b[0m\n"
     ]
    },
    {
     "name": "stdout",
     "output_type": "stream",
     "text": [
      "a: 484.225, b: 38.775, c: 2621.549, score: 1197322.000000\n"
     ]
    },
    {
     "name": "stderr",
     "output_type": "stream",
     "text": [
      "\u001b[32m[I 2022-10-01 04:49:39,354]\u001b[0m Trial 79 finished with value: 1201863.795 and parameters: {'a': 490.5943597245981, 'b': 30.211910647124217, 'c': 1927.6297954364152}. Best is trial 56 with value: 1229785.945.\u001b[0m\n"
     ]
    },
    {
     "name": "stdout",
     "output_type": "stream",
     "text": [
      "a: 490.594, b: 30.212, c: 1927.630, score: 1201863.795000\n"
     ]
    },
    {
     "name": "stderr",
     "output_type": "stream",
     "text": [
      "\u001b[32m[I 2022-10-01 04:52:38,850]\u001b[0m Trial 80 finished with value: 1209635.635 and parameters: {'a': 411.8680321199268, 'b': 40.634952250926425, 'c': 1065.9139557288975}. Best is trial 56 with value: 1229785.945.\u001b[0m\n"
     ]
    },
    {
     "name": "stdout",
     "output_type": "stream",
     "text": [
      "a: 411.868, b: 40.635, c: 1065.914, score: 1209635.635000\n"
     ]
    },
    {
     "name": "stderr",
     "output_type": "stream",
     "text": [
      "\u001b[32m[I 2022-10-01 04:55:38,344]\u001b[0m Trial 81 finished with value: 1212415.895 and parameters: {'a': 468.21783130678364, 'b': 34.15115571837849, 'c': 2469.450938466079}. Best is trial 56 with value: 1229785.945.\u001b[0m\n"
     ]
    },
    {
     "name": "stdout",
     "output_type": "stream",
     "text": [
      "a: 468.218, b: 34.151, c: 2469.451, score: 1212415.895000\n"
     ]
    },
    {
     "name": "stderr",
     "output_type": "stream",
     "text": [
      "\u001b[32m[I 2022-10-01 04:58:37,835]\u001b[0m Trial 82 finished with value: 1212039.52 and parameters: {'a': 445.40038097944006, 'b': 32.60978519649301, 'c': 2829.2417490060675}. Best is trial 56 with value: 1229785.945.\u001b[0m\n"
     ]
    },
    {
     "name": "stdout",
     "output_type": "stream",
     "text": [
      "a: 445.400, b: 32.610, c: 2829.242, score: 1212039.520000\n"
     ]
    },
    {
     "name": "stderr",
     "output_type": "stream",
     "text": [
      "\u001b[32m[I 2022-10-01 05:01:37,329]\u001b[0m Trial 83 finished with value: 1207803.93 and parameters: {'a': 480.88126481469845, 'b': 24.152726678193538, 'c': 2564.776695822523}. Best is trial 56 with value: 1229785.945.\u001b[0m\n"
     ]
    },
    {
     "name": "stdout",
     "output_type": "stream",
     "text": [
      "a: 480.881, b: 24.153, c: 2564.777, score: 1207803.930000\n"
     ]
    },
    {
     "name": "stderr",
     "output_type": "stream",
     "text": [
      "\u001b[32m[I 2022-10-01 05:04:36,824]\u001b[0m Trial 84 finished with value: 1213419.34 and parameters: {'a': 460.52010292915134, 'b': 28.076393843800332, 'c': 2671.045161875782}. Best is trial 56 with value: 1229785.945.\u001b[0m\n"
     ]
    },
    {
     "name": "stdout",
     "output_type": "stream",
     "text": [
      "a: 460.520, b: 28.076, c: 2671.045, score: 1213419.340000\n"
     ]
    },
    {
     "name": "stderr",
     "output_type": "stream",
     "text": [
      "\u001b[32m[I 2022-10-01 05:07:36,321]\u001b[0m Trial 85 finished with value: 1199057.31 and parameters: {'a': 474.8028161839105, 'b': 37.648392907273134, 'c': 1825.3690151291505}. Best is trial 56 with value: 1229785.945.\u001b[0m\n"
     ]
    },
    {
     "name": "stdout",
     "output_type": "stream",
     "text": [
      "a: 474.803, b: 37.648, c: 1825.369, score: 1199057.310000\n"
     ]
    },
    {
     "name": "stderr",
     "output_type": "stream",
     "text": [
      "\u001b[32m[I 2022-10-01 05:10:35,815]\u001b[0m Trial 86 finished with value: 1206596.72 and parameters: {'a': 436.0544770438625, 'b': 36.031129428480604, 'c': 2534.711426681679}. Best is trial 56 with value: 1229785.945.\u001b[0m\n"
     ]
    },
    {
     "name": "stdout",
     "output_type": "stream",
     "text": [
      "a: 436.054, b: 36.031, c: 2534.711, score: 1206596.720000\n"
     ]
    },
    {
     "name": "stderr",
     "output_type": "stream",
     "text": [
      "\u001b[32m[I 2022-10-01 05:13:35,313]\u001b[0m Trial 87 finished with value: 1204753.155 and parameters: {'a': 427.1383096700108, 'b': 39.417732116516035, 'c': 2140.6489441015347}. Best is trial 56 with value: 1229785.945.\u001b[0m\n"
     ]
    },
    {
     "name": "stdout",
     "output_type": "stream",
     "text": [
      "a: 427.138, b: 39.418, c: 2140.649, score: 1204753.155000\n"
     ]
    },
    {
     "name": "stderr",
     "output_type": "stream",
     "text": [
      "\u001b[32m[I 2022-10-01 05:16:34,809]\u001b[0m Trial 88 finished with value: 1210045.945 and parameters: {'a': 590.0161322679054, 'b': 27.01779250302988, 'c': 2318.9461734056727}. Best is trial 56 with value: 1229785.945.\u001b[0m\n"
     ]
    },
    {
     "name": "stdout",
     "output_type": "stream",
     "text": [
      "a: 590.016, b: 27.018, c: 2318.946, score: 1210045.945000\n"
     ]
    },
    {
     "name": "stderr",
     "output_type": "stream",
     "text": [
      "\u001b[32m[I 2022-10-01 05:19:34,304]\u001b[0m Trial 89 finished with value: 1215981.575 and parameters: {'a': 453.1329709959105, 'b': 18.562591221704942, 'c': 2419.9070186785234}. Best is trial 56 with value: 1229785.945.\u001b[0m\n"
     ]
    },
    {
     "name": "stdout",
     "output_type": "stream",
     "text": [
      "a: 453.133, b: 18.563, c: 2419.907, score: 1215981.575000\n"
     ]
    },
    {
     "name": "stderr",
     "output_type": "stream",
     "text": [
      "\u001b[32m[I 2022-10-01 05:22:33,802]\u001b[0m Trial 90 finished with value: 1218173.87 and parameters: {'a': 465.653417245204, 'b': 34.77799470918084, 'c': 1236.0500598894678}. Best is trial 56 with value: 1229785.945.\u001b[0m\n"
     ]
    },
    {
     "name": "stdout",
     "output_type": "stream",
     "text": [
      "a: 465.653, b: 34.778, c: 1236.050, score: 1218173.870000\n"
     ]
    },
    {
     "name": "stderr",
     "output_type": "stream",
     "text": [
      "\u001b[32m[I 2022-10-01 05:25:33,294]\u001b[0m Trial 91 finished with value: 1207541.725 and parameters: {'a': 447.93298602690476, 'b': 31.37326312763487, 'c': 1219.6211530634223}. Best is trial 56 with value: 1229785.945.\u001b[0m\n"
     ]
    },
    {
     "name": "stdout",
     "output_type": "stream",
     "text": [
      "a: 447.933, b: 31.373, c: 1219.621, score: 1207541.725000\n"
     ]
    },
    {
     "name": "stderr",
     "output_type": "stream",
     "text": [
      "\u001b[32m[I 2022-10-01 05:28:32,786]\u001b[0m Trial 92 finished with value: 1202415.8 and parameters: {'a': 465.6370399352095, 'b': 33.13133444165058, 'c': 1158.201120516307}. Best is trial 56 with value: 1229785.945.\u001b[0m\n"
     ]
    },
    {
     "name": "stdout",
     "output_type": "stream",
     "text": [
      "a: 465.637, b: 33.131, c: 1158.201, score: 1202415.800000\n"
     ]
    },
    {
     "name": "stderr",
     "output_type": "stream",
     "text": [
      "\u001b[32m[I 2022-10-01 05:31:32,281]\u001b[0m Trial 93 finished with value: 1198166.09 and parameters: {'a': 471.32180929923527, 'b': 34.92977574282063, 'c': 1110.3518846278914}. Best is trial 56 with value: 1229785.945.\u001b[0m\n"
     ]
    },
    {
     "name": "stdout",
     "output_type": "stream",
     "text": [
      "a: 471.322, b: 34.930, c: 1110.352, score: 1198166.090000\n"
     ]
    },
    {
     "name": "stderr",
     "output_type": "stream",
     "text": [
      "\u001b[32m[I 2022-10-01 05:34:31,787]\u001b[0m Trial 94 finished with value: 1213000.425 and parameters: {'a': 489.64563841357614, 'b': 37.157292675167696, 'c': 1030.3101702452002}. Best is trial 56 with value: 1229785.945.\u001b[0m\n"
     ]
    },
    {
     "name": "stdout",
     "output_type": "stream",
     "text": [
      "a: 489.646, b: 37.157, c: 1030.310, score: 1213000.425000\n"
     ]
    },
    {
     "name": "stderr",
     "output_type": "stream",
     "text": [
      "\u001b[32m[I 2022-10-01 05:37:31,283]\u001b[0m Trial 95 finished with value: 1207681.875 and parameters: {'a': 439.7231036016126, 'b': 35.727980600904246, 'c': 1283.4652339660195}. Best is trial 56 with value: 1229785.945.\u001b[0m\n"
     ]
    },
    {
     "name": "stdout",
     "output_type": "stream",
     "text": [
      "a: 439.723, b: 35.728, c: 1283.465, score: 1207681.875000\n"
     ]
    },
    {
     "name": "stderr",
     "output_type": "stream",
     "text": [
      "\u001b[32m[I 2022-10-01 05:40:30,776]\u001b[0m Trial 96 finished with value: 1202037.475 and parameters: {'a': 457.5096599910694, 'b': 38.39185313308728, 'c': 2233.488420295411}. Best is trial 56 with value: 1229785.945.\u001b[0m\n"
     ]
    },
    {
     "name": "stdout",
     "output_type": "stream",
     "text": [
      "a: 457.510, b: 38.392, c: 2233.488, score: 1202037.475000\n"
     ]
    },
    {
     "name": "stderr",
     "output_type": "stream",
     "text": [
      "\u001b[32m[I 2022-10-01 05:43:30,270]\u001b[0m Trial 97 finished with value: 1203045.435 and parameters: {'a': 481.73485294915287, 'b': 34.4838773812522, 'c': 1083.5089761212053}. Best is trial 56 with value: 1229785.945.\u001b[0m\n"
     ]
    },
    {
     "name": "stdout",
     "output_type": "stream",
     "text": [
      "a: 481.735, b: 34.484, c: 1083.509, score: 1203045.435000\n"
     ]
    },
    {
     "name": "stderr",
     "output_type": "stream",
     "text": [
      "\u001b[32m[I 2022-10-01 05:46:29,762]\u001b[0m Trial 98 finished with value: 1224921.51 and parameters: {'a': 477.67997162168797, 'b': 41.949958690085985, 'c': 2845.9256419553003}. Best is trial 56 with value: 1229785.945.\u001b[0m\n"
     ]
    },
    {
     "name": "stdout",
     "output_type": "stream",
     "text": [
      "a: 477.680, b: 41.950, c: 2845.926, score: 1224921.510000\n"
     ]
    },
    {
     "name": "stderr",
     "output_type": "stream",
     "text": [
      "\u001b[32m[I 2022-10-01 05:49:29,256]\u001b[0m Trial 99 finished with value: 1204743.02 and parameters: {'a': 501.54511615750954, 'b': 44.775907666995565, 'c': 2860.139809800477}. Best is trial 56 with value: 1229785.945.\u001b[0m\n"
     ]
    },
    {
     "name": "stdout",
     "output_type": "stream",
     "text": [
      "a: 501.545, b: 44.776, c: 2860.140, score: 1204743.020000\n"
     ]
    },
    {
     "name": "stderr",
     "output_type": "stream",
     "text": [
      "\u001b[32m[I 2022-10-01 05:52:28,752]\u001b[0m Trial 100 finished with value: 1224345.175 and parameters: {'a': 477.1326951215247, 'b': 41.61873502555885, 'c': 1612.3298712128899}. Best is trial 56 with value: 1229785.945.\u001b[0m\n"
     ]
    },
    {
     "name": "stdout",
     "output_type": "stream",
     "text": [
      "a: 477.133, b: 41.619, c: 1612.330, score: 1224345.175000\n"
     ]
    },
    {
     "name": "stderr",
     "output_type": "stream",
     "text": [
      "\u001b[32m[I 2022-10-01 05:55:28,247]\u001b[0m Trial 101 finished with value: 1187033.725 and parameters: {'a': 476.18400424133324, 'b': 40.398044834003215, 'c': 1534.5553660102628}. Best is trial 56 with value: 1229785.945.\u001b[0m\n"
     ]
    },
    {
     "name": "stdout",
     "output_type": "stream",
     "text": [
      "a: 476.184, b: 40.398, c: 1534.555, score: 1187033.725000\n"
     ]
    },
    {
     "name": "stderr",
     "output_type": "stream",
     "text": [
      "\u001b[32m[I 2022-10-01 05:58:27,743]\u001b[0m Trial 102 finished with value: 1194080.42 and parameters: {'a': 469.7578854200696, 'b': 42.101870444414445, 'c': 1009.3374858550904}. Best is trial 56 with value: 1229785.945.\u001b[0m\n"
     ]
    },
    {
     "name": "stdout",
     "output_type": "stream",
     "text": [
      "a: 469.758, b: 42.102, c: 1009.337, score: 1194080.420000\n"
     ]
    },
    {
     "name": "stderr",
     "output_type": "stream",
     "text": [
      "\u001b[32m[I 2022-10-01 06:01:27,237]\u001b[0m Trial 103 finished with value: 1208500.935 and parameters: {'a': 462.60753685634984, 'b': 44.776211391727784, 'c': 1710.8226152604282}. Best is trial 56 with value: 1229785.945.\u001b[0m\n"
     ]
    },
    {
     "name": "stdout",
     "output_type": "stream",
     "text": [
      "a: 462.608, b: 44.776, c: 1710.823, score: 1208500.935000\n"
     ]
    },
    {
     "name": "stderr",
     "output_type": "stream",
     "text": [
      "\u001b[32m[I 2022-10-01 06:04:26,731]\u001b[0m Trial 104 finished with value: 1212131.205 and parameters: {'a': 485.3054246004587, 'b': 41.388147590123296, 'c': 1656.6592571509586}. Best is trial 56 with value: 1229785.945.\u001b[0m\n"
     ]
    },
    {
     "name": "stdout",
     "output_type": "stream",
     "text": [
      "a: 485.305, b: 41.388, c: 1656.659, score: 1212131.205000\n"
     ]
    },
    {
     "name": "stderr",
     "output_type": "stream",
     "text": [
      "\u001b[32m[I 2022-10-01 06:07:26,228]\u001b[0m Trial 105 finished with value: 1202240.63 and parameters: {'a': 477.0341611102897, 'b': 43.890119634605234, 'c': 2749.1477632428996}. Best is trial 56 with value: 1229785.945.\u001b[0m\n"
     ]
    },
    {
     "name": "stdout",
     "output_type": "stream",
     "text": [
      "a: 477.034, b: 43.890, c: 2749.148, score: 1202240.630000\n"
     ]
    },
    {
     "name": "stderr",
     "output_type": "stream",
     "text": [
      "\u001b[32m[I 2022-10-01 06:10:25,721]\u001b[0m Trial 106 finished with value: 1223284.545 and parameters: {'a': 472.69766992649136, 'b': 40.050429440686194, 'c': 2677.8054372935726}. Best is trial 56 with value: 1229785.945.\u001b[0m\n"
     ]
    },
    {
     "name": "stdout",
     "output_type": "stream",
     "text": [
      "a: 472.698, b: 40.050, c: 2677.805, score: 1223284.545000\n"
     ]
    },
    {
     "name": "stderr",
     "output_type": "stream",
     "text": [
      "\u001b[32m[I 2022-10-01 06:13:25,219]\u001b[0m Trial 107 finished with value: 1215219.335 and parameters: {'a': 473.4166325555549, 'b': 39.64539258292527, 'c': 2950.6967633716977}. Best is trial 56 with value: 1229785.945.\u001b[0m\n"
     ]
    },
    {
     "name": "stdout",
     "output_type": "stream",
     "text": [
      "a: 473.417, b: 39.645, c: 2950.697, score: 1215219.335000\n"
     ]
    },
    {
     "name": "stderr",
     "output_type": "stream",
     "text": [
      "\u001b[32m[I 2022-10-01 06:16:24,718]\u001b[0m Trial 108 finished with value: 1212894.26 and parameters: {'a': 548.2187264805195, 'b': 29.098834558032223, 'c': 2690.4078349359074}. Best is trial 56 with value: 1229785.945.\u001b[0m\n"
     ]
    },
    {
     "name": "stdout",
     "output_type": "stream",
     "text": [
      "a: 548.219, b: 29.099, c: 2690.408, score: 1212894.260000\n"
     ]
    },
    {
     "name": "stderr",
     "output_type": "stream",
     "text": [
      "\u001b[32m[I 2022-10-01 06:19:24,217]\u001b[0m Trial 109 finished with value: 1224554.025 and parameters: {'a': 491.8615047647283, 'b': 47.83870295029666, 'c': 2823.3536293818893}. Best is trial 56 with value: 1229785.945.\u001b[0m\n"
     ]
    },
    {
     "name": "stdout",
     "output_type": "stream",
     "text": [
      "a: 491.862, b: 47.839, c: 2823.354, score: 1224554.025000\n"
     ]
    },
    {
     "name": "stderr",
     "output_type": "stream",
     "text": [
      "\u001b[32m[I 2022-10-01 06:22:23,711]\u001b[0m Trial 110 finished with value: 1194697.615 and parameters: {'a': 496.4957998211443, 'b': 45.51722736042383, 'c': 2851.869248064114}. Best is trial 56 with value: 1229785.945.\u001b[0m\n"
     ]
    },
    {
     "name": "stdout",
     "output_type": "stream",
     "text": [
      "a: 496.496, b: 45.517, c: 2851.869, score: 1194697.615000\n"
     ]
    },
    {
     "name": "stderr",
     "output_type": "stream",
     "text": [
      "\u001b[32m[I 2022-10-01 06:25:23,207]\u001b[0m Trial 111 finished with value: 1199168.29 and parameters: {'a': 489.649278574345, 'b': 47.56008931756058, 'c': 2672.1513960082066}. Best is trial 56 with value: 1229785.945.\u001b[0m\n"
     ]
    },
    {
     "name": "stdout",
     "output_type": "stream",
     "text": [
      "a: 489.649, b: 47.560, c: 2672.151, score: 1199168.290000\n"
     ]
    },
    {
     "name": "stderr",
     "output_type": "stream",
     "text": [
      "\u001b[32m[I 2022-10-01 06:28:22,704]\u001b[0m Trial 112 finished with value: 1208141.835 and parameters: {'a': 481.3344848751822, 'b': 42.61190990132901, 'c': 2805.629478487315}. Best is trial 56 with value: 1229785.945.\u001b[0m\n"
     ]
    },
    {
     "name": "stdout",
     "output_type": "stream",
     "text": [
      "a: 481.334, b: 42.612, c: 2805.629, score: 1208141.835000\n"
     ]
    },
    {
     "name": "stderr",
     "output_type": "stream",
     "text": [
      "\u001b[32m[I 2022-10-01 06:31:22,198]\u001b[0m Trial 113 finished with value: 1214189.12 and parameters: {'a': 463.7019744363365, 'b': 37.71307436467275, 'c': 2769.9325704342855}. Best is trial 56 with value: 1229785.945.\u001b[0m\n"
     ]
    },
    {
     "name": "stdout",
     "output_type": "stream",
     "text": [
      "a: 463.702, b: 37.713, c: 2769.933, score: 1214189.120000\n"
     ]
    },
    {
     "name": "stderr",
     "output_type": "stream",
     "text": [
      "\u001b[32m[I 2022-10-01 06:34:21,694]\u001b[0m Trial 114 finished with value: 1203797.085 and parameters: {'a': 512.5879001870089, 'b': 43.403749542718934, 'c': 2907.743144151318}. Best is trial 56 with value: 1229785.945.\u001b[0m\n"
     ]
    },
    {
     "name": "stdout",
     "output_type": "stream",
     "text": [
      "a: 512.588, b: 43.404, c: 2907.743, score: 1203797.085000\n"
     ]
    },
    {
     "name": "stderr",
     "output_type": "stream",
     "text": [
      "\u001b[32m[I 2022-10-01 06:37:21,189]\u001b[0m Trial 115 finished with value: 1192551.46 and parameters: {'a': 492.2305828791698, 'b': 48.29749307700154, 'c': 2602.0535595295282}. Best is trial 56 with value: 1229785.945.\u001b[0m\n"
     ]
    },
    {
     "name": "stdout",
     "output_type": "stream",
     "text": [
      "a: 492.231, b: 48.297, c: 2602.054, score: 1192551.460000\n"
     ]
    },
    {
     "name": "stderr",
     "output_type": "stream",
     "text": [
      "\u001b[32m[I 2022-10-01 06:40:20,685]\u001b[0m Trial 116 finished with value: 1210069.085 and parameters: {'a': 467.4209347881904, 'b': 36.68791404418589, 'c': 1449.6703746817316}. Best is trial 56 with value: 1229785.945.\u001b[0m\n"
     ]
    },
    {
     "name": "stdout",
     "output_type": "stream",
     "text": [
      "a: 467.421, b: 36.688, c: 1449.670, score: 1210069.085000\n"
     ]
    },
    {
     "name": "stderr",
     "output_type": "stream",
     "text": [
      "\u001b[32m[I 2022-10-01 06:43:20,182]\u001b[0m Trial 117 finished with value: 1214413.015 and parameters: {'a': 417.78951203184505, 'b': 41.24585794306695, 'c': 2088.3415790710715}. Best is trial 56 with value: 1229785.945.\u001b[0m\n"
     ]
    },
    {
     "name": "stdout",
     "output_type": "stream",
     "text": [
      "a: 417.790, b: 41.246, c: 2088.342, score: 1214413.015000\n"
     ]
    },
    {
     "name": "stderr",
     "output_type": "stream",
     "text": [
      "\u001b[32m[I 2022-10-01 06:46:19,680]\u001b[0m Trial 118 finished with value: 1201174.485 and parameters: {'a': 486.2688480540823, 'b': 39.43396196656255, 'c': 2775.6520066364783}. Best is trial 56 with value: 1229785.945.\u001b[0m\n"
     ]
    },
    {
     "name": "stdout",
     "output_type": "stream",
     "text": [
      "a: 486.269, b: 39.434, c: 2775.652, score: 1201174.485000\n"
     ]
    },
    {
     "name": "stderr",
     "output_type": "stream",
     "text": [
      "\u001b[32m[I 2022-10-01 06:49:19,171]\u001b[0m Trial 119 finished with value: 1210287.75 and parameters: {'a': 411.92256236849397, 'b': 38.61337592662948, 'c': 1616.7620235510244}. Best is trial 56 with value: 1229785.945.\u001b[0m\n"
     ]
    },
    {
     "name": "stdout",
     "output_type": "stream",
     "text": [
      "a: 411.923, b: 38.613, c: 1616.762, score: 1210287.750000\n"
     ]
    },
    {
     "name": "stderr",
     "output_type": "stream",
     "text": [
      "\u001b[32m[I 2022-10-01 06:52:18,668]\u001b[0m Trial 120 finished with value: 1217235.77 and parameters: {'a': 478.7468487307938, 'b': 33.1240799716219, 'c': 1170.6821729186659}. Best is trial 56 with value: 1229785.945.\u001b[0m\n"
     ]
    },
    {
     "name": "stdout",
     "output_type": "stream",
     "text": [
      "a: 478.747, b: 33.124, c: 1170.682, score: 1217235.770000\n"
     ]
    },
    {
     "name": "stderr",
     "output_type": "stream",
     "text": [
      "\u001b[32m[I 2022-10-01 06:55:18,163]\u001b[0m Trial 121 finished with value: 1202230.805 and parameters: {'a': 483.2136645325095, 'b': 36.67047800972632, 'c': 1063.513172597554}. Best is trial 56 with value: 1229785.945.\u001b[0m\n"
     ]
    },
    {
     "name": "stdout",
     "output_type": "stream",
     "text": [
      "a: 483.214, b: 36.670, c: 1063.513, score: 1202230.805000\n"
     ]
    },
    {
     "name": "stderr",
     "output_type": "stream",
     "text": [
      "\u001b[32m[I 2022-10-01 06:58:17,661]\u001b[0m Trial 122 finished with value: 1210082.535 and parameters: {'a': 471.95607709961655, 'b': 40.12317936177401, 'c': 1776.1986213083148}. Best is trial 56 with value: 1229785.945.\u001b[0m\n"
     ]
    },
    {
     "name": "stdout",
     "output_type": "stream",
     "text": [
      "a: 471.956, b: 40.123, c: 1776.199, score: 1210082.535000\n"
     ]
    },
    {
     "name": "stderr",
     "output_type": "stream",
     "text": [
      "\u001b[32m[I 2022-10-01 07:01:17,160]\u001b[0m Trial 123 finished with value: 1206033.535 and parameters: {'a': 455.54672102297104, 'b': 35.26122889535218, 'c': 1122.8128520117111}. Best is trial 56 with value: 1229785.945.\u001b[0m\n"
     ]
    },
    {
     "name": "stdout",
     "output_type": "stream",
     "text": [
      "a: 455.547, b: 35.261, c: 1122.813, score: 1206033.535000\n"
     ]
    },
    {
     "name": "stderr",
     "output_type": "stream",
     "text": [
      "\u001b[32m[I 2022-10-01 07:04:16,668]\u001b[0m Trial 124 finished with value: 1206344.12 and parameters: {'a': 476.60396591941657, 'b': 30.16556666774562, 'c': 2954.4248363525257}. Best is trial 56 with value: 1229785.945.\u001b[0m\n"
     ]
    },
    {
     "name": "stdout",
     "output_type": "stream",
     "text": [
      "a: 476.604, b: 30.166, c: 2954.425, score: 1206344.120000\n"
     ]
    },
    {
     "name": "stderr",
     "output_type": "stream",
     "text": [
      "\u001b[32m[I 2022-10-01 07:07:16,167]\u001b[0m Trial 125 finished with value: 1214244.14 and parameters: {'a': 504.74686012955374, 'b': 37.78515080485238, 'c': 1988.6826123333929}. Best is trial 56 with value: 1229785.945.\u001b[0m\n"
     ]
    },
    {
     "name": "stdout",
     "output_type": "stream",
     "text": [
      "a: 504.747, b: 37.785, c: 1988.683, score: 1214244.140000\n"
     ]
    },
    {
     "name": "stderr",
     "output_type": "stream",
     "text": [
      "\u001b[32m[I 2022-10-01 07:10:15,661]\u001b[0m Trial 126 finished with value: 1203442.19 and parameters: {'a': 487.25890675066415, 'b': 34.03923834536717, 'c': 1327.342443412064}. Best is trial 56 with value: 1229785.945.\u001b[0m\n"
     ]
    },
    {
     "name": "stdout",
     "output_type": "stream",
     "text": [
      "a: 487.259, b: 34.039, c: 1327.342, score: 1203442.190000\n"
     ]
    },
    {
     "name": "stderr",
     "output_type": "stream",
     "text": [
      "\u001b[32m[I 2022-10-01 07:13:15,167]\u001b[0m Trial 127 finished with value: 1200146.82 and parameters: {'a': 493.87918169428514, 'b': 31.891194361572126, 'c': 1233.4927563020776}. Best is trial 56 with value: 1229785.945.\u001b[0m\n"
     ]
    },
    {
     "name": "stdout",
     "output_type": "stream",
     "text": [
      "a: 493.879, b: 31.891, c: 1233.493, score: 1200146.820000\n"
     ]
    },
    {
     "name": "stderr",
     "output_type": "stream",
     "text": [
      "\u001b[32m[I 2022-10-01 07:16:14,663]\u001b[0m Trial 128 finished with value: 1216176.22 and parameters: {'a': 459.4709042267541, 'b': 39.0870875857116, 'c': 2879.8232432334526}. Best is trial 56 with value: 1229785.945.\u001b[0m\n"
     ]
    },
    {
     "name": "stdout",
     "output_type": "stream",
     "text": [
      "a: 459.471, b: 39.087, c: 2879.823, score: 1216176.220000\n"
     ]
    },
    {
     "name": "stderr",
     "output_type": "stream",
     "text": [
      "\u001b[32m[I 2022-10-01 07:19:14,156]\u001b[0m Trial 129 finished with value: 1218132.335 and parameters: {'a': 405.6952758995173, 'b': 40.814052425187455, 'c': 1085.2369116677494}. Best is trial 56 with value: 1229785.945.\u001b[0m\n"
     ]
    },
    {
     "name": "stdout",
     "output_type": "stream",
     "text": [
      "a: 405.695, b: 40.814, c: 1085.237, score: 1218132.335000\n"
     ]
    },
    {
     "name": "stderr",
     "output_type": "stream",
     "text": [
      "\u001b[32m[I 2022-10-01 07:22:13,655]\u001b[0m Trial 130 finished with value: 1207299.065 and parameters: {'a': 405.41818396514367, 'b': 42.169771855821125, 'c': 2649.6305171654562}. Best is trial 56 with value: 1229785.945.\u001b[0m\n"
     ]
    },
    {
     "name": "stdout",
     "output_type": "stream",
     "text": [
      "a: 405.418, b: 42.170, c: 2649.631, score: 1207299.065000\n"
     ]
    },
    {
     "name": "stderr",
     "output_type": "stream",
     "text": [
      "\u001b[32m[I 2022-10-01 07:25:13,149]\u001b[0m Trial 131 finished with value: 1199286.22 and parameters: {'a': 473.2688862220419, 'b': 40.71290783217401, 'c': 1102.812604183754}. Best is trial 56 with value: 1229785.945.\u001b[0m\n"
     ]
    },
    {
     "name": "stdout",
     "output_type": "stream",
     "text": [
      "a: 473.269, b: 40.713, c: 1102.813, score: 1199286.220000\n"
     ]
    },
    {
     "name": "stderr",
     "output_type": "stream",
     "text": [
      "\u001b[32m[I 2022-10-01 07:28:12,646]\u001b[0m Trial 132 finished with value: 1214713.64 and parameters: {'a': 419.88559196287395, 'b': 35.97349531792869, 'c': 1052.2596190290822}. Best is trial 56 with value: 1229785.945.\u001b[0m\n"
     ]
    },
    {
     "name": "stdout",
     "output_type": "stream",
     "text": [
      "a: 419.886, b: 35.973, c: 1052.260, score: 1214713.640000\n"
     ]
    },
    {
     "name": "stderr",
     "output_type": "stream",
     "text": [
      "\u001b[32m[I 2022-10-01 07:31:12,140]\u001b[0m Trial 133 finished with value: 1217571.34 and parameters: {'a': 405.5119398694015, 'b': 49.053297825119145, 'c': 1184.1198008842698}. Best is trial 56 with value: 1229785.945.\u001b[0m\n"
     ]
    },
    {
     "name": "stdout",
     "output_type": "stream",
     "text": [
      "a: 405.512, b: 49.053, c: 1184.120, score: 1217571.340000\n"
     ]
    },
    {
     "name": "stderr",
     "output_type": "stream",
     "text": [
      "\u001b[32m[I 2022-10-01 07:34:11,636]\u001b[0m Trial 134 finished with value: 1210306.08 and parameters: {'a': 400.3009970582752, 'b': 37.304319276119685, 'c': 1012.2672600086458}. Best is trial 56 with value: 1229785.945.\u001b[0m\n"
     ]
    },
    {
     "name": "stdout",
     "output_type": "stream",
     "text": [
      "a: 400.301, b: 37.304, c: 1012.267, score: 1210306.080000\n"
     ]
    },
    {
     "name": "stderr",
     "output_type": "stream",
     "text": [
      "\u001b[32m[I 2022-10-01 07:37:11,139]\u001b[0m Trial 135 finished with value: 1198661.255 and parameters: {'a': 467.9181720919047, 'b': 38.413188222582356, 'c': 1148.5051571434178}. Best is trial 56 with value: 1229785.945.\u001b[0m\n"
     ]
    },
    {
     "name": "stdout",
     "output_type": "stream",
     "text": [
      "a: 467.918, b: 38.413, c: 1148.505, score: 1198661.255000\n"
     ]
    },
    {
     "name": "stderr",
     "output_type": "stream",
     "text": [
      "\u001b[32m[I 2022-10-01 07:40:10,639]\u001b[0m Trial 136 finished with value: 1200007.03 and parameters: {'a': 409.4973071546809, 'b': 32.753503194148635, 'c': 2834.829383023913}. Best is trial 56 with value: 1229785.945.\u001b[0m\n"
     ]
    },
    {
     "name": "stdout",
     "output_type": "stream",
     "text": [
      "a: 409.497, b: 32.754, c: 2834.829, score: 1200007.030000\n"
     ]
    },
    {
     "name": "stderr",
     "output_type": "stream",
     "text": [
      "\u001b[32m[I 2022-10-01 07:43:10,133]\u001b[0m Trial 137 finished with value: 1190194.27 and parameters: {'a': 449.6428344350918, 'b': 40.99750247009764, 'c': 1893.666503274681}. Best is trial 56 with value: 1229785.945.\u001b[0m\n"
     ]
    },
    {
     "name": "stdout",
     "output_type": "stream",
     "text": [
      "a: 449.643, b: 40.998, c: 1893.667, score: 1190194.270000\n"
     ]
    },
    {
     "name": "stderr",
     "output_type": "stream",
     "text": [
      "\u001b[32m[I 2022-10-01 07:46:09,653]\u001b[0m Trial 138 finished with value: 1207258.905 and parameters: {'a': 432.68168181740714, 'b': 39.95523516693092, 'c': 2732.7290041359884}. Best is trial 56 with value: 1229785.945.\u001b[0m\n"
     ]
    },
    {
     "name": "stdout",
     "output_type": "stream",
     "text": [
      "a: 432.682, b: 39.955, c: 2732.729, score: 1207258.905000\n"
     ]
    },
    {
     "name": "stderr",
     "output_type": "stream",
     "text": [
      "\u001b[32m[I 2022-10-01 07:49:09,153]\u001b[0m Trial 139 finished with value: 1214881.65 and parameters: {'a': 414.0252686778015, 'b': 47.2826826421364, 'c': 1095.0751910683398}. Best is trial 56 with value: 1229785.945.\u001b[0m\n"
     ]
    },
    {
     "name": "stdout",
     "output_type": "stream",
     "text": [
      "a: 414.025, b: 47.283, c: 1095.075, score: 1214881.650000\n"
     ]
    },
    {
     "name": "stderr",
     "output_type": "stream",
     "text": [
      "\u001b[32m[I 2022-10-01 07:52:08,648]\u001b[0m Trial 140 finished with value: 1212975.88 and parameters: {'a': 478.8512383885488, 'b': 44.25731388032615, 'c': 1060.7358921281923}. Best is trial 56 with value: 1229785.945.\u001b[0m\n"
     ]
    },
    {
     "name": "stdout",
     "output_type": "stream",
     "text": [
      "a: 478.851, b: 44.257, c: 1060.736, score: 1212975.880000\n"
     ]
    },
    {
     "name": "stderr",
     "output_type": "stream",
     "text": [
      "\u001b[32m[I 2022-10-01 07:55:08,141]\u001b[0m Trial 141 finished with value: 1197017.855 and parameters: {'a': 404.47739510772516, 'b': 48.41995601723175, 'c': 1174.9987852850936}. Best is trial 56 with value: 1229785.945.\u001b[0m\n"
     ]
    },
    {
     "name": "stdout",
     "output_type": "stream",
     "text": [
      "a: 404.477, b: 48.420, c: 1174.999, score: 1197017.855000\n"
     ]
    },
    {
     "name": "stderr",
     "output_type": "stream",
     "text": [
      "\u001b[32m[I 2022-10-01 07:58:07,633]\u001b[0m Trial 142 finished with value: 1210888.44 and parameters: {'a': 408.0704971483639, 'b': 46.53703580702177, 'c': 1392.9156242843167}. Best is trial 56 with value: 1229785.945.\u001b[0m\n"
     ]
    },
    {
     "name": "stdout",
     "output_type": "stream",
     "text": [
      "a: 408.070, b: 46.537, c: 1392.916, score: 1210888.440000\n"
     ]
    },
    {
     "name": "stderr",
     "output_type": "stream",
     "text": [
      "\u001b[32m[I 2022-10-01 08:01:07,133]\u001b[0m Trial 143 finished with value: 1198022.28 and parameters: {'a': 421.59001433785977, 'b': 48.7470868355261, 'c': 1026.8990932398888}. Best is trial 56 with value: 1229785.945.\u001b[0m\n"
     ]
    },
    {
     "name": "stdout",
     "output_type": "stream",
     "text": [
      "a: 421.590, b: 48.747, c: 1026.899, score: 1198022.280000\n"
     ]
    },
    {
     "name": "stderr",
     "output_type": "stream",
     "text": [
      "\u001b[32m[I 2022-10-01 08:04:06,629]\u001b[0m Trial 144 finished with value: 1214390.395 and parameters: {'a': 415.30447383604434, 'b': 49.526141595259574, 'c': 1205.9727977710872}. Best is trial 56 with value: 1229785.945.\u001b[0m\n"
     ]
    },
    {
     "name": "stdout",
     "output_type": "stream",
     "text": [
      "a: 415.304, b: 49.526, c: 1205.973, score: 1214390.395000\n"
     ]
    },
    {
     "name": "stderr",
     "output_type": "stream",
     "text": [
      "\u001b[32m[I 2022-10-01 08:07:06,125]\u001b[0m Trial 145 finished with value: 1206066.805 and parameters: {'a': 428.5614890700246, 'b': 34.764377741341406, 'c': 1139.9220510135624}. Best is trial 56 with value: 1229785.945.\u001b[0m\n"
     ]
    },
    {
     "name": "stdout",
     "output_type": "stream",
     "text": [
      "a: 428.561, b: 34.764, c: 1139.922, score: 1206066.805000\n"
     ]
    },
    {
     "name": "stderr",
     "output_type": "stream",
     "text": [
      "\u001b[32m[I 2022-10-01 08:10:05,622]\u001b[0m Trial 146 finished with value: 1204648.005 and parameters: {'a': 483.59455012099977, 'b': 46.03386028091151, 'c': 1002.757342773406}. Best is trial 56 with value: 1229785.945.\u001b[0m\n"
     ]
    },
    {
     "name": "stdout",
     "output_type": "stream",
     "text": [
      "a: 483.595, b: 46.034, c: 1002.757, score: 1204648.005000\n"
     ]
    },
    {
     "name": "stderr",
     "output_type": "stream",
     "text": [
      "\u001b[32m[I 2022-10-01 08:13:05,119]\u001b[0m Trial 147 finished with value: 1216762.025 and parameters: {'a': 401.64383951111733, 'b': 43.0628771130731, 'c': 1268.5940068546606}. Best is trial 56 with value: 1229785.945.\u001b[0m\n"
     ]
    },
    {
     "name": "stdout",
     "output_type": "stream",
     "text": [
      "a: 401.644, b: 43.063, c: 1268.594, score: 1216762.025000\n"
     ]
    },
    {
     "name": "stderr",
     "output_type": "stream",
     "text": [
      "\u001b[32m[I 2022-10-01 08:16:04,616]\u001b[0m Trial 148 finished with value: 1197099.335 and parameters: {'a': 463.7432455822823, 'b': 41.766046439979576, 'c': 1080.659254772905}. Best is trial 56 with value: 1229785.945.\u001b[0m\n"
     ]
    },
    {
     "name": "stdout",
     "output_type": "stream",
     "text": [
      "a: 463.743, b: 41.766, c: 1080.659, score: 1197099.335000\n"
     ]
    },
    {
     "name": "stderr",
     "output_type": "stream",
     "text": [
      "\u001b[32m[I 2022-10-01 08:19:04,117]\u001b[0m Trial 149 finished with value: 1224607.535 and parameters: {'a': 469.8013114982223, 'b': 30.941170702672466, 'c': 2700.2799454719684}. Best is trial 56 with value: 1229785.945.\u001b[0m\n"
     ]
    },
    {
     "name": "stdout",
     "output_type": "stream",
     "text": [
      "a: 469.801, b: 30.941, c: 2700.280, score: 1224607.535000\n"
     ]
    },
    {
     "name": "stderr",
     "output_type": "stream",
     "text": [
      "\u001b[32m[I 2022-10-01 08:22:03,610]\u001b[0m Trial 150 finished with value: 1202747.545 and parameters: {'a': 471.41007067039, 'b': 32.294761408476454, 'c': 2694.6397943034976}. Best is trial 56 with value: 1229785.945.\u001b[0m\n"
     ]
    },
    {
     "name": "stdout",
     "output_type": "stream",
     "text": [
      "a: 471.410, b: 32.295, c: 2694.640, score: 1202747.545000\n"
     ]
    },
    {
     "name": "stderr",
     "output_type": "stream",
     "text": [
      "\u001b[32m[I 2022-10-01 08:25:03,105]\u001b[0m Trial 151 finished with value: 1205983.495 and parameters: {'a': 480.1524693597203, 'b': 30.814578878648188, 'c': 2587.5583910013634}. Best is trial 56 with value: 1229785.945.\u001b[0m\n"
     ]
    },
    {
     "name": "stdout",
     "output_type": "stream",
     "text": [
      "a: 480.152, b: 30.815, c: 2587.558, score: 1205983.495000\n"
     ]
    },
    {
     "name": "stderr",
     "output_type": "stream",
     "text": [
      "\u001b[32m[I 2022-10-01 08:28:02,604]\u001b[0m Trial 152 finished with value: 1219679.415 and parameters: {'a': 467.4800590749665, 'b': 49.881265107202715, 'c': 2747.1212989879064}. Best is trial 56 with value: 1229785.945.\u001b[0m\n"
     ]
    },
    {
     "name": "stdout",
     "output_type": "stream",
     "text": [
      "a: 467.480, b: 49.881, c: 2747.121, score: 1219679.415000\n"
     ]
    },
    {
     "name": "stderr",
     "output_type": "stream",
     "text": [
      "\u001b[32m[I 2022-10-01 08:31:02,098]\u001b[0m Trial 153 finished with value: 1198664.335 and parameters: {'a': 466.58628320751905, 'b': 31.28042373069464, 'c': 2804.6604633090938}. Best is trial 56 with value: 1229785.945.\u001b[0m\n"
     ]
    },
    {
     "name": "stdout",
     "output_type": "stream",
     "text": [
      "a: 466.586, b: 31.280, c: 2804.660, score: 1198664.335000\n"
     ]
    },
    {
     "name": "stderr",
     "output_type": "stream",
     "text": [
      "\u001b[32m[I 2022-10-01 08:34:01,593]\u001b[0m Trial 154 finished with value: 1205417.65 and parameters: {'a': 475.85362578999195, 'b': 29.431495019382915, 'c': 2720.4294180258503}. Best is trial 56 with value: 1229785.945.\u001b[0m\n"
     ]
    },
    {
     "name": "stdout",
     "output_type": "stream",
     "text": [
      "a: 475.854, b: 29.431, c: 2720.429, score: 1205417.650000\n"
     ]
    },
    {
     "name": "stderr",
     "output_type": "stream",
     "text": [
      "\u001b[32m[I 2022-10-01 08:37:01,089]\u001b[0m Trial 155 finished with value: 1220700.285 and parameters: {'a': 460.26699088771085, 'b': 35.6630007544345, 'c': 2755.8265837684494}. Best is trial 56 with value: 1229785.945.\u001b[0m\n"
     ]
    },
    {
     "name": "stdout",
     "output_type": "stream",
     "text": [
      "a: 460.267, b: 35.663, c: 2755.827, score: 1220700.285000\n"
     ]
    },
    {
     "name": "stderr",
     "output_type": "stream",
     "text": [
      "\u001b[32m[I 2022-10-01 08:40:00,581]\u001b[0m Trial 156 finished with value: 1208183.805 and parameters: {'a': 460.6859328297106, 'b': 49.90476530924351, 'c': 2650.1241005461166}. Best is trial 56 with value: 1229785.945.\u001b[0m\n"
     ]
    },
    {
     "name": "stdout",
     "output_type": "stream",
     "text": [
      "a: 460.686, b: 49.905, c: 2650.124, score: 1208183.805000\n"
     ]
    },
    {
     "name": "stderr",
     "output_type": "stream",
     "text": [
      "\u001b[32m[I 2022-10-01 08:43:00,079]\u001b[0m Trial 157 finished with value: 1205821.96 and parameters: {'a': 456.8584297567165, 'b': 33.670817965882954, 'c': 2737.0492150555065}. Best is trial 56 with value: 1229785.945.\u001b[0m\n"
     ]
    },
    {
     "name": "stdout",
     "output_type": "stream",
     "text": [
      "a: 456.858, b: 33.671, c: 2737.049, score: 1205821.960000\n"
     ]
    },
    {
     "name": "stderr",
     "output_type": "stream",
     "text": [
      "\u001b[32m[I 2022-10-01 08:45:59,573]\u001b[0m Trial 158 finished with value: 1203405.21 and parameters: {'a': 452.32692371391266, 'b': 34.996094256697276, 'c': 2524.8191710116503}. Best is trial 56 with value: 1229785.945.\u001b[0m\n"
     ]
    },
    {
     "name": "stdout",
     "output_type": "stream",
     "text": [
      "a: 452.327, b: 34.996, c: 2524.819, score: 1203405.210000\n"
     ]
    },
    {
     "name": "stderr",
     "output_type": "stream",
     "text": [
      "\u001b[32m[I 2022-10-01 08:48:59,071]\u001b[0m Trial 159 finished with value: 1195682.95 and parameters: {'a': 468.87608238592003, 'b': 28.416162989092626, 'c': 2779.578913879377}. Best is trial 56 with value: 1229785.945.\u001b[0m\n"
     ]
    },
    {
     "name": "stdout",
     "output_type": "stream",
     "text": [
      "a: 468.876, b: 28.416, c: 2779.579, score: 1195682.950000\n"
     ]
    },
    {
     "name": "stderr",
     "output_type": "stream",
     "text": [
      "\u001b[32m[I 2022-10-01 08:51:58,568]\u001b[0m Trial 160 finished with value: 1203363.385 and parameters: {'a': 473.0350730576591, 'b': 36.13292500389135, 'c': 2833.5384725019517}. Best is trial 56 with value: 1229785.945.\u001b[0m\n"
     ]
    },
    {
     "name": "stdout",
     "output_type": "stream",
     "text": [
      "a: 473.035, b: 36.133, c: 2833.538, score: 1203363.385000\n"
     ]
    },
    {
     "name": "stderr",
     "output_type": "stream",
     "text": [
      "\u001b[32m[I 2022-10-01 08:54:58,069]\u001b[0m Trial 161 finished with value: 1206575.8 and parameters: {'a': 464.3332536365466, 'b': 36.90344417471474, 'c': 2679.0962647835627}. Best is trial 56 with value: 1229785.945.\u001b[0m\n"
     ]
    },
    {
     "name": "stdout",
     "output_type": "stream",
     "text": [
      "a: 464.333, b: 36.903, c: 2679.096, score: 1206575.800000\n"
     ]
    },
    {
     "name": "stderr",
     "output_type": "stream",
     "text": [
      "\u001b[32m[I 2022-10-01 08:57:57,567]\u001b[0m Trial 162 finished with value: 1203566.205 and parameters: {'a': 487.2278250657432, 'b': 38.9841479138773, 'c': 2193.4219900650764}. Best is trial 56 with value: 1229785.945.\u001b[0m\n"
     ]
    },
    {
     "name": "stdout",
     "output_type": "stream",
     "text": [
      "a: 487.228, b: 38.984, c: 2193.422, score: 1203566.205000\n"
     ]
    },
    {
     "name": "stderr",
     "output_type": "stream",
     "text": [
      "\u001b[32m[I 2022-10-01 09:00:57,062]\u001b[0m Trial 163 finished with value: 1206889.175 and parameters: {'a': 481.5879424711529, 'b': 37.783429158326605, 'c': 2749.2343735671093}. Best is trial 56 with value: 1229785.945.\u001b[0m\n"
     ]
    },
    {
     "name": "stdout",
     "output_type": "stream",
     "text": [
      "a: 481.588, b: 37.783, c: 2749.234, score: 1206889.175000\n"
     ]
    },
    {
     "name": "stderr",
     "output_type": "stream",
     "text": [
      "\u001b[32m[I 2022-10-01 09:03:56,556]\u001b[0m Trial 164 finished with value: 1212687.16 and parameters: {'a': 442.80460583243, 'b': 35.29895559988902, 'c': 1505.8290122847552}. Best is trial 56 with value: 1229785.945.\u001b[0m\n"
     ]
    },
    {
     "name": "stdout",
     "output_type": "stream",
     "text": [
      "a: 442.805, b: 35.299, c: 1505.829, score: 1212687.160000\n"
     ]
    },
    {
     "name": "stderr",
     "output_type": "stream",
     "text": [
      "\u001b[32m[I 2022-10-01 09:06:56,054]\u001b[0m Trial 165 finished with value: 1210234.76 and parameters: {'a': 460.1910634916276, 'b': 33.89724978667007, 'c': 2869.248812223876}. Best is trial 56 with value: 1229785.945.\u001b[0m\n"
     ]
    },
    {
     "name": "stdout",
     "output_type": "stream",
     "text": [
      "a: 460.191, b: 33.897, c: 2869.249, score: 1210234.760000\n"
     ]
    },
    {
     "name": "stderr",
     "output_type": "stream",
     "text": [
      "\u001b[32m[I 2022-10-01 09:09:55,548]\u001b[0m Trial 166 finished with value: 1210861.45 and parameters: {'a': 470.58489613990565, 'b': 39.73968492265158, 'c': 2619.182453606678}. Best is trial 56 with value: 1229785.945.\u001b[0m\n"
     ]
    },
    {
     "name": "stdout",
     "output_type": "stream",
     "text": [
      "a: 470.585, b: 39.740, c: 2619.182, score: 1210861.450000\n"
     ]
    },
    {
     "name": "stderr",
     "output_type": "stream",
     "text": [
      "\u001b[32m[I 2022-10-01 09:12:55,047]\u001b[0m Trial 167 finished with value: 1214426.85 and parameters: {'a': 476.93344518366916, 'b': 31.743362660627252, 'c': 2803.3947021223817}. Best is trial 56 with value: 1229785.945.\u001b[0m\n"
     ]
    },
    {
     "name": "stdout",
     "output_type": "stream",
     "text": [
      "a: 476.933, b: 31.743, c: 2803.395, score: 1214426.850000\n"
     ]
    },
    {
     "name": "stderr",
     "output_type": "stream",
     "text": [
      "\u001b[32m[I 2022-10-01 09:15:54,538]\u001b[0m Trial 168 finished with value: 1218989.595 and parameters: {'a': 464.8987683136844, 'b': 36.3331794037352, 'c': 2913.369909610054}. Best is trial 56 with value: 1229785.945.\u001b[0m\n"
     ]
    },
    {
     "name": "stdout",
     "output_type": "stream",
     "text": [
      "a: 464.899, b: 36.333, c: 2913.370, score: 1218989.595000\n"
     ]
    },
    {
     "name": "stderr",
     "output_type": "stream",
     "text": [
      "\u001b[32m[I 2022-10-01 09:18:54,035]\u001b[0m Trial 169 finished with value: 1205090.025 and parameters: {'a': 454.6310098526746, 'b': 36.26156076051196, 'c': 2709.9269096676076}. Best is trial 56 with value: 1229785.945.\u001b[0m\n"
     ]
    },
    {
     "name": "stdout",
     "output_type": "stream",
     "text": [
      "a: 454.631, b: 36.262, c: 2709.927, score: 1205090.025000\n"
     ]
    },
    {
     "name": "stderr",
     "output_type": "stream",
     "text": [
      "\u001b[32m[I 2022-10-01 09:21:53,532]\u001b[0m Trial 170 finished with value: 1208733.165 and parameters: {'a': 464.76324394919783, 'b': 30.42592052566998, 'c': 2909.1424545173186}. Best is trial 56 with value: 1229785.945.\u001b[0m\n"
     ]
    },
    {
     "name": "stdout",
     "output_type": "stream",
     "text": [
      "a: 464.763, b: 30.426, c: 2909.142, score: 1208733.165000\n"
     ]
    },
    {
     "name": "stderr",
     "output_type": "stream",
     "text": [
      "\u001b[32m[I 2022-10-01 09:24:53,030]\u001b[0m Trial 171 finished with value: 1209410.285 and parameters: {'a': 472.70185393655765, 'b': 36.885778882226376, 'c': 2937.823161222453}. Best is trial 56 with value: 1229785.945.\u001b[0m\n"
     ]
    },
    {
     "name": "stdout",
     "output_type": "stream",
     "text": [
      "a: 472.702, b: 36.886, c: 2937.823, score: 1209410.285000\n"
     ]
    },
    {
     "name": "stderr",
     "output_type": "stream",
     "text": [
      "\u001b[32m[I 2022-10-01 09:27:52,524]\u001b[0m Trial 172 finished with value: 1219421.485 and parameters: {'a': 468.1514052684995, 'b': 37.966495826978125, 'c': 2771.9560614375823}. Best is trial 56 with value: 1229785.945.\u001b[0m\n"
     ]
    },
    {
     "name": "stdout",
     "output_type": "stream",
     "text": [
      "a: 468.151, b: 37.966, c: 2771.956, score: 1219421.485000\n"
     ]
    },
    {
     "name": "stderr",
     "output_type": "stream",
     "text": [
      "\u001b[32m[I 2022-10-01 09:30:52,020]\u001b[0m Trial 173 finished with value: 1200329.315 and parameters: {'a': 466.2593963155144, 'b': 38.37636652880194, 'c': 2765.6499187509476}. Best is trial 56 with value: 1229785.945.\u001b[0m\n"
     ]
    },
    {
     "name": "stdout",
     "output_type": "stream",
     "text": [
      "a: 466.259, b: 38.376, c: 2765.650, score: 1200329.315000\n"
     ]
    },
    {
     "name": "stderr",
     "output_type": "stream",
     "text": [
      "\u001b[32m[I 2022-10-01 09:33:51,519]\u001b[0m Trial 174 finished with value: 1208898.26 and parameters: {'a': 460.84737274658085, 'b': 35.68441805870913, 'c': 2831.2777775711875}. Best is trial 56 with value: 1229785.945.\u001b[0m\n"
     ]
    },
    {
     "name": "stdout",
     "output_type": "stream",
     "text": [
      "a: 460.847, b: 35.684, c: 2831.278, score: 1208898.260000\n"
     ]
    },
    {
     "name": "stderr",
     "output_type": "stream",
     "text": [
      "\u001b[32m[I 2022-10-01 09:36:51,019]\u001b[0m Trial 175 finished with value: 1217313.585 and parameters: {'a': 468.7585949588351, 'b': 40.519014893059754, 'c': 2994.1527204383524}. Best is trial 56 with value: 1229785.945.\u001b[0m\n"
     ]
    },
    {
     "name": "stdout",
     "output_type": "stream",
     "text": [
      "a: 468.759, b: 40.519, c: 2994.153, score: 1217313.585000\n"
     ]
    },
    {
     "name": "stderr",
     "output_type": "stream",
     "text": [
      "\u001b[32m[I 2022-10-01 09:39:50,515]\u001b[0m Trial 176 finished with value: 1206407.055 and parameters: {'a': 446.80781644075495, 'b': 34.3821731720618, 'c': 2877.519170855727}. Best is trial 56 with value: 1229785.945.\u001b[0m\n"
     ]
    },
    {
     "name": "stdout",
     "output_type": "stream",
     "text": [
      "a: 446.808, b: 34.382, c: 2877.519, score: 1206407.055000\n"
     ]
    },
    {
     "name": "stderr",
     "output_type": "stream",
     "text": [
      "\u001b[32m[I 2022-10-01 09:42:50,020]\u001b[0m Trial 177 finished with value: 1218171.625 and parameters: {'a': 457.2844001518383, 'b': 37.718573697680355, 'c': 2803.9208933746777}. Best is trial 56 with value: 1229785.945.\u001b[0m\n"
     ]
    },
    {
     "name": "stdout",
     "output_type": "stream",
     "text": [
      "a: 457.284, b: 37.719, c: 2803.921, score: 1218171.625000\n"
     ]
    },
    {
     "name": "stderr",
     "output_type": "stream",
     "text": [
      "\u001b[32m[I 2022-10-01 09:45:49,517]\u001b[0m Trial 178 finished with value: 1215704.805 and parameters: {'a': 457.47228540789274, 'b': 37.459734198674326, 'c': 2790.6083883633487}. Best is trial 56 with value: 1229785.945.\u001b[0m\n"
     ]
    },
    {
     "name": "stdout",
     "output_type": "stream",
     "text": [
      "a: 457.472, b: 37.460, c: 2790.608, score: 1215704.805000\n"
     ]
    },
    {
     "name": "stderr",
     "output_type": "stream",
     "text": [
      "\u001b[32m[I 2022-10-01 09:48:49,012]\u001b[0m Trial 179 finished with value: 1214952.775 and parameters: {'a': 461.91287594985215, 'b': 38.211272083062404, 'c': 2696.597691192255}. Best is trial 56 with value: 1229785.945.\u001b[0m\n"
     ]
    },
    {
     "name": "stdout",
     "output_type": "stream",
     "text": [
      "a: 461.913, b: 38.211, c: 2696.598, score: 1214952.775000\n"
     ]
    },
    {
     "name": "stderr",
     "output_type": "stream",
     "text": [
      "\u001b[32m[I 2022-10-01 09:51:48,504]\u001b[0m Trial 180 finished with value: 1209068.46 and parameters: {'a': 451.0686082807857, 'b': 33.110281201639204, 'c': 2752.0300591392343}. Best is trial 56 with value: 1229785.945.\u001b[0m\n"
     ]
    },
    {
     "name": "stdout",
     "output_type": "stream",
     "text": [
      "a: 451.069, b: 33.110, c: 2752.030, score: 1209068.460000\n"
     ]
    },
    {
     "name": "stderr",
     "output_type": "stream",
     "text": [
      "\u001b[32m[I 2022-10-01 09:54:48,001]\u001b[0m Trial 181 finished with value: 1208253.44 and parameters: {'a': 474.55056541359585, 'b': 39.02571972803709, 'c': 2827.9208690058977}. Best is trial 56 with value: 1229785.945.\u001b[0m\n"
     ]
    },
    {
     "name": "stdout",
     "output_type": "stream",
     "text": [
      "a: 474.551, b: 39.026, c: 2827.921, score: 1208253.440000\n"
     ]
    },
    {
     "name": "stderr",
     "output_type": "stream",
     "text": [
      "\u001b[32m[I 2022-10-01 09:57:47,514]\u001b[0m Trial 182 finished with value: 1219644.4 and parameters: {'a': 469.32912167429686, 'b': 36.500629566677375, 'c': 2645.3287013470094}. Best is trial 56 with value: 1229785.945.\u001b[0m\n"
     ]
    },
    {
     "name": "stdout",
     "output_type": "stream",
     "text": [
      "a: 469.329, b: 36.501, c: 2645.329, score: 1219644.400000\n"
     ]
    },
    {
     "name": "stderr",
     "output_type": "stream",
     "text": [
      "\u001b[32m[I 2022-10-01 10:00:47,020]\u001b[0m Trial 183 finished with value: 1223949.395 and parameters: {'a': 468.87058497936425, 'b': 36.88214355336708, 'c': 2907.856831916816}. Best is trial 56 with value: 1229785.945.\u001b[0m\n"
     ]
    },
    {
     "name": "stdout",
     "output_type": "stream",
     "text": [
      "a: 468.871, b: 36.882, c: 2907.857, score: 1223949.395000\n"
     ]
    },
    {
     "name": "stderr",
     "output_type": "stream",
     "text": [
      "\u001b[32m[I 2022-10-01 10:03:46,515]\u001b[0m Trial 184 finished with value: 1209852.22 and parameters: {'a': 469.9551703127898, 'b': 35.68243613069435, 'c': 2650.2993260476824}. Best is trial 56 with value: 1229785.945.\u001b[0m\n"
     ]
    },
    {
     "name": "stdout",
     "output_type": "stream",
     "text": [
      "a: 469.955, b: 35.682, c: 2650.299, score: 1209852.220000\n"
     ]
    },
    {
     "name": "stderr",
     "output_type": "stream",
     "text": [
      "\u001b[32m[I 2022-10-01 10:06:46,009]\u001b[0m Trial 185 finished with value: 1206231.745 and parameters: {'a': 478.0257980243807, 'b': 36.455614525880506, 'c': 2856.825924556455}. Best is trial 56 with value: 1229785.945.\u001b[0m\n"
     ]
    },
    {
     "name": "stdout",
     "output_type": "stream",
     "text": [
      "a: 478.026, b: 36.456, c: 2856.826, score: 1206231.745000\n"
     ]
    },
    {
     "name": "stderr",
     "output_type": "stream",
     "text": [
      "\u001b[32m[I 2022-10-01 10:09:45,512]\u001b[0m Trial 186 finished with value: 1215876.065 and parameters: {'a': 465.9093572681944, 'b': 37.163541094945046, 'c': 2958.7089878572338}. Best is trial 56 with value: 1229785.945.\u001b[0m\n"
     ]
    },
    {
     "name": "stdout",
     "output_type": "stream",
     "text": [
      "a: 465.909, b: 37.164, c: 2958.709, score: 1215876.065000\n"
     ]
    },
    {
     "name": "stderr",
     "output_type": "stream",
     "text": [
      "\u001b[32m[I 2022-10-01 10:12:45,009]\u001b[0m Trial 187 finished with value: 1204558.86 and parameters: {'a': 474.14780785610077, 'b': 47.52927718594744, 'c': 2606.630086420855}. Best is trial 56 with value: 1229785.945.\u001b[0m\n"
     ]
    },
    {
     "name": "stdout",
     "output_type": "stream",
     "text": [
      "a: 474.148, b: 47.529, c: 2606.630, score: 1204558.860000\n"
     ]
    },
    {
     "name": "stderr",
     "output_type": "stream",
     "text": [
      "\u001b[32m[I 2022-10-01 10:15:44,514]\u001b[0m Trial 188 finished with value: 1219805.115 and parameters: {'a': 468.28131309198176, 'b': 35.1360388668129, 'c': 2903.2459484138144}. Best is trial 56 with value: 1229785.945.\u001b[0m\n"
     ]
    },
    {
     "name": "stdout",
     "output_type": "stream",
     "text": [
      "a: 468.281, b: 35.136, c: 2903.246, score: 1219805.115000\n"
     ]
    },
    {
     "name": "stderr",
     "output_type": "stream",
     "text": [
      "\u001b[32m[I 2022-10-01 10:18:44,009]\u001b[0m Trial 189 finished with value: 1200592.435 and parameters: {'a': 480.47609000940724, 'b': 35.42839770767069, 'c': 2905.671909423705}. Best is trial 56 with value: 1229785.945.\u001b[0m\n"
     ]
    },
    {
     "name": "stdout",
     "output_type": "stream",
     "text": [
      "a: 480.476, b: 35.428, c: 2905.672, score: 1200592.435000\n"
     ]
    },
    {
     "name": "stderr",
     "output_type": "stream",
     "text": [
      "\u001b[32m[I 2022-10-01 10:21:43,507]\u001b[0m Trial 190 finished with value: 1212188.09 and parameters: {'a': 469.0287162494697, 'b': 36.5516877497992, 'c': 2898.6510831677274}. Best is trial 56 with value: 1229785.945.\u001b[0m\n"
     ]
    },
    {
     "name": "stdout",
     "output_type": "stream",
     "text": [
      "a: 469.029, b: 36.552, c: 2898.651, score: 1212188.090000\n"
     ]
    },
    {
     "name": "stderr",
     "output_type": "stream",
     "text": [
      "\u001b[32m[I 2022-10-01 10:24:43,002]\u001b[0m Trial 191 finished with value: 1209011.35 and parameters: {'a': 463.99809757165326, 'b': 34.74685845667813, 'c': 2942.2774775392695}. Best is trial 56 with value: 1229785.945.\u001b[0m\n"
     ]
    },
    {
     "name": "stdout",
     "output_type": "stream",
     "text": [
      "a: 463.998, b: 34.747, c: 2942.277, score: 1209011.350000\n"
     ]
    },
    {
     "name": "stderr",
     "output_type": "stream",
     "text": [
      "\u001b[32m[I 2022-10-01 10:27:42,493]\u001b[0m Trial 192 finished with value: 1201625.855 and parameters: {'a': 472.60292176157685, 'b': 33.972143534334315, 'c': 2684.2467945245357}. Best is trial 56 with value: 1229785.945.\u001b[0m\n"
     ]
    },
    {
     "name": "stdout",
     "output_type": "stream",
     "text": [
      "a: 472.603, b: 33.972, c: 2684.247, score: 1201625.855000\n"
     ]
    },
    {
     "name": "stderr",
     "output_type": "stream",
     "text": [
      "\u001b[32m[I 2022-10-01 10:30:41,990]\u001b[0m Trial 193 finished with value: 1216113.685 and parameters: {'a': 469.2914632946777, 'b': 35.82651531125442, 'c': 2723.3119030225844}. Best is trial 56 with value: 1229785.945.\u001b[0m\n"
     ]
    },
    {
     "name": "stdout",
     "output_type": "stream",
     "text": [
      "a: 469.291, b: 35.827, c: 2723.312, score: 1216113.685000\n"
     ]
    },
    {
     "name": "stderr",
     "output_type": "stream",
     "text": [
      "\u001b[32m[I 2022-10-01 10:33:41,486]\u001b[0m Trial 194 finished with value: 1214646.36 and parameters: {'a': 477.3011566548488, 'b': 36.94773846768427, 'c': 2574.457349790217}. Best is trial 56 with value: 1229785.945.\u001b[0m\n"
     ]
    },
    {
     "name": "stdout",
     "output_type": "stream",
     "text": [
      "a: 477.301, b: 36.948, c: 2574.457, score: 1214646.360000\n"
     ]
    },
    {
     "name": "stderr",
     "output_type": "stream",
     "text": [
      "\u001b[32m[I 2022-10-01 10:36:40,984]\u001b[0m Trial 195 finished with value: 1200263.435 and parameters: {'a': 483.8911066535858, 'b': 34.73313659264694, 'c': 1574.2747341801567}. Best is trial 56 with value: 1229785.945.\u001b[0m\n"
     ]
    },
    {
     "name": "stdout",
     "output_type": "stream",
     "text": [
      "a: 483.891, b: 34.733, c: 1574.275, score: 1200263.435000\n"
     ]
    },
    {
     "name": "stderr",
     "output_type": "stream",
     "text": [
      "\u001b[32m[I 2022-10-01 10:39:40,516]\u001b[0m Trial 196 finished with value: 1189396.835 and parameters: {'a': 462.260490396805, 'b': 33.15219640676496, 'c': 2398.7939723223376}. Best is trial 56 with value: 1229785.945.\u001b[0m\n"
     ]
    },
    {
     "name": "stdout",
     "output_type": "stream",
     "text": [
      "a: 462.260, b: 33.152, c: 2398.794, score: 1189396.835000\n"
     ]
    },
    {
     "name": "stderr",
     "output_type": "stream",
     "text": [
      "\u001b[32m[I 2022-10-01 10:42:40,027]\u001b[0m Trial 197 finished with value: 1208635.02 and parameters: {'a': 465.92040730460667, 'b': 38.27497253519286, 'c': 2753.0127808158936}. Best is trial 56 with value: 1229785.945.\u001b[0m\n"
     ]
    },
    {
     "name": "stdout",
     "output_type": "stream",
     "text": [
      "a: 465.920, b: 38.275, c: 2753.013, score: 1208635.020000\n"
     ]
    },
    {
     "name": "stderr",
     "output_type": "stream",
     "text": [
      "\u001b[32m[I 2022-10-01 10:45:39,537]\u001b[0m Trial 198 finished with value: 1202807.645 and parameters: {'a': 473.38222388111285, 'b': 32.37011898604775, 'c': 2859.3468520916917}. Best is trial 56 with value: 1229785.945.\u001b[0m\n"
     ]
    },
    {
     "name": "stdout",
     "output_type": "stream",
     "text": [
      "a: 473.382, b: 32.370, c: 2859.347, score: 1202807.645000\n"
     ]
    },
    {
     "name": "stderr",
     "output_type": "stream",
     "text": [
      "\u001b[32m[I 2022-10-01 10:48:39,062]\u001b[0m Trial 199 finished with value: 1211086.98 and parameters: {'a': 489.33434209452514, 'b': 26.0981722606482, 'c': 2269.264464115911}. Best is trial 56 with value: 1229785.945.\u001b[0m\n"
     ]
    },
    {
     "name": "stdout",
     "output_type": "stream",
     "text": [
      "a: 489.334, b: 26.098, c: 2269.264, score: 1211086.980000\n",
      "best_score:1229785.95\n",
      "a:471.45839694200276, b:36.431488928245415\n"
     ]
    }
   ],
   "source": [
    "study.optimize(objective, n_trials=n_trials)\n",
    "print(\"best_score:{:.2f}\".format(study.best_value))\n",
    "print(\"a:{}, b:{}\".format(study.best_params[\"a\"], study.best_params[\"b\"]))"
   ]
  },
  {
   "cell_type": "code",
   "execution_count": 53,
   "metadata": {},
   "outputs": [
    {
     "data": {
      "application/vnd.plotly.v1+json": {
       "config": {
        "plotlyServerURL": "https://plot.ly"
       },
       "data": [
        {
         "mode": "markers",
         "name": "Objective Value",
         "type": "scatter",
         "x": [
          0,
          1,
          2,
          3,
          4,
          5,
          6,
          7,
          8,
          9,
          10,
          11,
          12,
          13,
          14,
          15,
          16,
          17,
          18,
          19,
          20,
          21,
          22,
          23,
          24,
          25,
          26,
          27,
          28,
          29,
          30,
          31,
          32,
          33,
          34,
          35,
          36,
          37,
          38,
          39,
          40,
          41,
          42,
          43,
          44,
          45,
          46,
          47,
          48,
          49,
          50,
          51,
          52,
          53,
          54,
          55,
          56,
          57,
          58,
          59,
          60,
          61,
          62,
          63,
          64,
          65,
          66,
          67,
          68,
          69,
          70,
          71,
          72,
          73,
          74,
          75,
          76,
          77,
          78,
          79,
          80,
          81,
          82,
          83,
          84,
          85,
          86,
          87,
          88,
          89,
          90,
          91,
          92,
          93,
          94,
          95,
          96,
          97,
          98,
          99,
          100,
          101,
          102,
          103,
          104,
          105,
          106,
          107,
          108,
          109,
          110,
          111,
          112,
          113,
          114,
          115,
          116,
          117,
          118,
          119,
          120,
          121,
          122,
          123,
          124,
          125,
          126,
          127,
          128,
          129,
          130,
          131,
          132,
          133,
          134,
          135,
          136,
          137,
          138,
          139,
          140,
          141,
          142,
          143,
          144,
          145,
          146,
          147,
          148,
          149,
          150,
          151,
          152,
          153,
          154,
          155,
          156,
          157,
          158,
          159,
          160,
          161,
          162,
          163,
          164,
          165,
          166,
          167,
          168,
          169,
          170,
          171,
          172,
          173,
          174,
          175,
          176,
          177,
          178,
          179,
          180,
          181,
          182,
          183,
          184,
          185,
          186,
          187,
          188,
          189,
          190,
          191,
          192,
          193,
          194,
          195,
          196,
          197,
          198,
          199
         ],
         "y": [
          1196688.555,
          1199941.12,
          1215454.16,
          1201450.455,
          1211325.03,
          1214825.645,
          1205061.195,
          1190395.615,
          1198364.98,
          1216361.875,
          1219629.195,
          1213839.62,
          1209389.495,
          1216214.38,
          1208995.92,
          1212252.235,
          1205091.855,
          1206146.565,
          1202588.665,
          1217697.3,
          1219276.27,
          1215496.35,
          1222527.11,
          1213242.985,
          1218344.05,
          1189914.595,
          1207014.35,
          1213863.85,
          1205763.33,
          1198142.595,
          1213789.18,
          1211620.625,
          1214554.25,
          1200875.165,
          1211126.675,
          1211877.045,
          1215302.67,
          1203822.56,
          1199085.955,
          1211059.195,
          1202967.19,
          1204163.95,
          1203306.725,
          1189372.88,
          1196428.285,
          1209806.745,
          1205151.93,
          1209303.71,
          1202492.01,
          1202693.32,
          1215166.435,
          1200196.985,
          1207844.105,
          1198249.425,
          1214595.085,
          1213796.935,
          1229785.945,
          1211465.835,
          1200520.91,
          1210833.8,
          1210958.345,
          1208804.94,
          1203989.045,
          1213666.675,
          1207228.105,
          1194390.495,
          1214772.385,
          1208611.835,
          1207485.43,
          1207046.295,
          1204096.45,
          1225688.97,
          1204575.065,
          1220965.85,
          1216352.51,
          1198463.84,
          1206203.975,
          1209281.125,
          1197322,
          1201863.795,
          1209635.635,
          1212415.895,
          1212039.52,
          1207803.93,
          1213419.34,
          1199057.31,
          1206596.72,
          1204753.155,
          1210045.945,
          1215981.575,
          1218173.87,
          1207541.725,
          1202415.8,
          1198166.09,
          1213000.425,
          1207681.875,
          1202037.475,
          1203045.435,
          1224921.51,
          1204743.02,
          1224345.175,
          1187033.725,
          1194080.42,
          1208500.935,
          1212131.205,
          1202240.63,
          1223284.545,
          1215219.335,
          1212894.26,
          1224554.025,
          1194697.615,
          1199168.29,
          1208141.835,
          1214189.12,
          1203797.085,
          1192551.46,
          1210069.085,
          1214413.015,
          1201174.485,
          1210287.75,
          1217235.77,
          1202230.805,
          1210082.535,
          1206033.535,
          1206344.12,
          1214244.14,
          1203442.19,
          1200146.82,
          1216176.22,
          1218132.335,
          1207299.065,
          1199286.22,
          1214713.64,
          1217571.34,
          1210306.08,
          1198661.255,
          1200007.03,
          1190194.27,
          1207258.905,
          1214881.65,
          1212975.88,
          1197017.855,
          1210888.44,
          1198022.28,
          1214390.395,
          1206066.805,
          1204648.005,
          1216762.025,
          1197099.335,
          1224607.535,
          1202747.545,
          1205983.495,
          1219679.415,
          1198664.335,
          1205417.65,
          1220700.285,
          1208183.805,
          1205821.96,
          1203405.21,
          1195682.95,
          1203363.385,
          1206575.8,
          1203566.205,
          1206889.175,
          1212687.16,
          1210234.76,
          1210861.45,
          1214426.85,
          1218989.595,
          1205090.025,
          1208733.165,
          1209410.285,
          1219421.485,
          1200329.315,
          1208898.26,
          1217313.585,
          1206407.055,
          1218171.625,
          1215704.805,
          1214952.775,
          1209068.46,
          1208253.44,
          1219644.4,
          1223949.395,
          1209852.22,
          1206231.745,
          1215876.065,
          1204558.86,
          1219805.115,
          1200592.435,
          1212188.09,
          1209011.35,
          1201625.855,
          1216113.685,
          1214646.36,
          1200263.435,
          1189396.835,
          1208635.02,
          1202807.645,
          1211086.98
         ]
        },
        {
         "name": "Best Value",
         "type": "scatter",
         "x": [
          0,
          1,
          2,
          3,
          4,
          5,
          6,
          7,
          8,
          9,
          10,
          11,
          12,
          13,
          14,
          15,
          16,
          17,
          18,
          19,
          20,
          21,
          22,
          23,
          24,
          25,
          26,
          27,
          28,
          29,
          30,
          31,
          32,
          33,
          34,
          35,
          36,
          37,
          38,
          39,
          40,
          41,
          42,
          43,
          44,
          45,
          46,
          47,
          48,
          49,
          50,
          51,
          52,
          53,
          54,
          55,
          56,
          57,
          58,
          59,
          60,
          61,
          62,
          63,
          64,
          65,
          66,
          67,
          68,
          69,
          70,
          71,
          72,
          73,
          74,
          75,
          76,
          77,
          78,
          79,
          80,
          81,
          82,
          83,
          84,
          85,
          86,
          87,
          88,
          89,
          90,
          91,
          92,
          93,
          94,
          95,
          96,
          97,
          98,
          99,
          100,
          101,
          102,
          103,
          104,
          105,
          106,
          107,
          108,
          109,
          110,
          111,
          112,
          113,
          114,
          115,
          116,
          117,
          118,
          119,
          120,
          121,
          122,
          123,
          124,
          125,
          126,
          127,
          128,
          129,
          130,
          131,
          132,
          133,
          134,
          135,
          136,
          137,
          138,
          139,
          140,
          141,
          142,
          143,
          144,
          145,
          146,
          147,
          148,
          149,
          150,
          151,
          152,
          153,
          154,
          155,
          156,
          157,
          158,
          159,
          160,
          161,
          162,
          163,
          164,
          165,
          166,
          167,
          168,
          169,
          170,
          171,
          172,
          173,
          174,
          175,
          176,
          177,
          178,
          179,
          180,
          181,
          182,
          183,
          184,
          185,
          186,
          187,
          188,
          189,
          190,
          191,
          192,
          193,
          194,
          195,
          196,
          197,
          198,
          199
         ],
         "y": [
          1196688.555,
          1199941.12,
          1215454.16,
          1215454.16,
          1215454.16,
          1215454.16,
          1215454.16,
          1215454.16,
          1215454.16,
          1216361.875,
          1219629.195,
          1219629.195,
          1219629.195,
          1219629.195,
          1219629.195,
          1219629.195,
          1219629.195,
          1219629.195,
          1219629.195,
          1219629.195,
          1219629.195,
          1219629.195,
          1222527.11,
          1222527.11,
          1222527.11,
          1222527.11,
          1222527.11,
          1222527.11,
          1222527.11,
          1222527.11,
          1222527.11,
          1222527.11,
          1222527.11,
          1222527.11,
          1222527.11,
          1222527.11,
          1222527.11,
          1222527.11,
          1222527.11,
          1222527.11,
          1222527.11,
          1222527.11,
          1222527.11,
          1222527.11,
          1222527.11,
          1222527.11,
          1222527.11,
          1222527.11,
          1222527.11,
          1222527.11,
          1222527.11,
          1222527.11,
          1222527.11,
          1222527.11,
          1222527.11,
          1222527.11,
          1229785.945,
          1229785.945,
          1229785.945,
          1229785.945,
          1229785.945,
          1229785.945,
          1229785.945,
          1229785.945,
          1229785.945,
          1229785.945,
          1229785.945,
          1229785.945,
          1229785.945,
          1229785.945,
          1229785.945,
          1229785.945,
          1229785.945,
          1229785.945,
          1229785.945,
          1229785.945,
          1229785.945,
          1229785.945,
          1229785.945,
          1229785.945,
          1229785.945,
          1229785.945,
          1229785.945,
          1229785.945,
          1229785.945,
          1229785.945,
          1229785.945,
          1229785.945,
          1229785.945,
          1229785.945,
          1229785.945,
          1229785.945,
          1229785.945,
          1229785.945,
          1229785.945,
          1229785.945,
          1229785.945,
          1229785.945,
          1229785.945,
          1229785.945,
          1229785.945,
          1229785.945,
          1229785.945,
          1229785.945,
          1229785.945,
          1229785.945,
          1229785.945,
          1229785.945,
          1229785.945,
          1229785.945,
          1229785.945,
          1229785.945,
          1229785.945,
          1229785.945,
          1229785.945,
          1229785.945,
          1229785.945,
          1229785.945,
          1229785.945,
          1229785.945,
          1229785.945,
          1229785.945,
          1229785.945,
          1229785.945,
          1229785.945,
          1229785.945,
          1229785.945,
          1229785.945,
          1229785.945,
          1229785.945,
          1229785.945,
          1229785.945,
          1229785.945,
          1229785.945,
          1229785.945,
          1229785.945,
          1229785.945,
          1229785.945,
          1229785.945,
          1229785.945,
          1229785.945,
          1229785.945,
          1229785.945,
          1229785.945,
          1229785.945,
          1229785.945,
          1229785.945,
          1229785.945,
          1229785.945,
          1229785.945,
          1229785.945,
          1229785.945,
          1229785.945,
          1229785.945,
          1229785.945,
          1229785.945,
          1229785.945,
          1229785.945,
          1229785.945,
          1229785.945,
          1229785.945,
          1229785.945,
          1229785.945,
          1229785.945,
          1229785.945,
          1229785.945,
          1229785.945,
          1229785.945,
          1229785.945,
          1229785.945,
          1229785.945,
          1229785.945,
          1229785.945,
          1229785.945,
          1229785.945,
          1229785.945,
          1229785.945,
          1229785.945,
          1229785.945,
          1229785.945,
          1229785.945,
          1229785.945,
          1229785.945,
          1229785.945,
          1229785.945,
          1229785.945,
          1229785.945,
          1229785.945,
          1229785.945,
          1229785.945,
          1229785.945,
          1229785.945,
          1229785.945,
          1229785.945,
          1229785.945,
          1229785.945,
          1229785.945,
          1229785.945,
          1229785.945,
          1229785.945
         ]
        }
       ],
       "layout": {
        "template": {
         "data": {
          "bar": [
           {
            "error_x": {
             "color": "#2a3f5f"
            },
            "error_y": {
             "color": "#2a3f5f"
            },
            "marker": {
             "line": {
              "color": "#E5ECF6",
              "width": 0.5
             },
             "pattern": {
              "fillmode": "overlay",
              "size": 10,
              "solidity": 0.2
             }
            },
            "type": "bar"
           }
          ],
          "barpolar": [
           {
            "marker": {
             "line": {
              "color": "#E5ECF6",
              "width": 0.5
             },
             "pattern": {
              "fillmode": "overlay",
              "size": 10,
              "solidity": 0.2
             }
            },
            "type": "barpolar"
           }
          ],
          "carpet": [
           {
            "aaxis": {
             "endlinecolor": "#2a3f5f",
             "gridcolor": "white",
             "linecolor": "white",
             "minorgridcolor": "white",
             "startlinecolor": "#2a3f5f"
            },
            "baxis": {
             "endlinecolor": "#2a3f5f",
             "gridcolor": "white",
             "linecolor": "white",
             "minorgridcolor": "white",
             "startlinecolor": "#2a3f5f"
            },
            "type": "carpet"
           }
          ],
          "choropleth": [
           {
            "colorbar": {
             "outlinewidth": 0,
             "ticks": ""
            },
            "type": "choropleth"
           }
          ],
          "contour": [
           {
            "colorbar": {
             "outlinewidth": 0,
             "ticks": ""
            },
            "colorscale": [
             [
              0,
              "#0d0887"
             ],
             [
              0.1111111111111111,
              "#46039f"
             ],
             [
              0.2222222222222222,
              "#7201a8"
             ],
             [
              0.3333333333333333,
              "#9c179e"
             ],
             [
              0.4444444444444444,
              "#bd3786"
             ],
             [
              0.5555555555555556,
              "#d8576b"
             ],
             [
              0.6666666666666666,
              "#ed7953"
             ],
             [
              0.7777777777777778,
              "#fb9f3a"
             ],
             [
              0.8888888888888888,
              "#fdca26"
             ],
             [
              1,
              "#f0f921"
             ]
            ],
            "type": "contour"
           }
          ],
          "contourcarpet": [
           {
            "colorbar": {
             "outlinewidth": 0,
             "ticks": ""
            },
            "type": "contourcarpet"
           }
          ],
          "heatmap": [
           {
            "colorbar": {
             "outlinewidth": 0,
             "ticks": ""
            },
            "colorscale": [
             [
              0,
              "#0d0887"
             ],
             [
              0.1111111111111111,
              "#46039f"
             ],
             [
              0.2222222222222222,
              "#7201a8"
             ],
             [
              0.3333333333333333,
              "#9c179e"
             ],
             [
              0.4444444444444444,
              "#bd3786"
             ],
             [
              0.5555555555555556,
              "#d8576b"
             ],
             [
              0.6666666666666666,
              "#ed7953"
             ],
             [
              0.7777777777777778,
              "#fb9f3a"
             ],
             [
              0.8888888888888888,
              "#fdca26"
             ],
             [
              1,
              "#f0f921"
             ]
            ],
            "type": "heatmap"
           }
          ],
          "heatmapgl": [
           {
            "colorbar": {
             "outlinewidth": 0,
             "ticks": ""
            },
            "colorscale": [
             [
              0,
              "#0d0887"
             ],
             [
              0.1111111111111111,
              "#46039f"
             ],
             [
              0.2222222222222222,
              "#7201a8"
             ],
             [
              0.3333333333333333,
              "#9c179e"
             ],
             [
              0.4444444444444444,
              "#bd3786"
             ],
             [
              0.5555555555555556,
              "#d8576b"
             ],
             [
              0.6666666666666666,
              "#ed7953"
             ],
             [
              0.7777777777777778,
              "#fb9f3a"
             ],
             [
              0.8888888888888888,
              "#fdca26"
             ],
             [
              1,
              "#f0f921"
             ]
            ],
            "type": "heatmapgl"
           }
          ],
          "histogram": [
           {
            "marker": {
             "pattern": {
              "fillmode": "overlay",
              "size": 10,
              "solidity": 0.2
             }
            },
            "type": "histogram"
           }
          ],
          "histogram2d": [
           {
            "colorbar": {
             "outlinewidth": 0,
             "ticks": ""
            },
            "colorscale": [
             [
              0,
              "#0d0887"
             ],
             [
              0.1111111111111111,
              "#46039f"
             ],
             [
              0.2222222222222222,
              "#7201a8"
             ],
             [
              0.3333333333333333,
              "#9c179e"
             ],
             [
              0.4444444444444444,
              "#bd3786"
             ],
             [
              0.5555555555555556,
              "#d8576b"
             ],
             [
              0.6666666666666666,
              "#ed7953"
             ],
             [
              0.7777777777777778,
              "#fb9f3a"
             ],
             [
              0.8888888888888888,
              "#fdca26"
             ],
             [
              1,
              "#f0f921"
             ]
            ],
            "type": "histogram2d"
           }
          ],
          "histogram2dcontour": [
           {
            "colorbar": {
             "outlinewidth": 0,
             "ticks": ""
            },
            "colorscale": [
             [
              0,
              "#0d0887"
             ],
             [
              0.1111111111111111,
              "#46039f"
             ],
             [
              0.2222222222222222,
              "#7201a8"
             ],
             [
              0.3333333333333333,
              "#9c179e"
             ],
             [
              0.4444444444444444,
              "#bd3786"
             ],
             [
              0.5555555555555556,
              "#d8576b"
             ],
             [
              0.6666666666666666,
              "#ed7953"
             ],
             [
              0.7777777777777778,
              "#fb9f3a"
             ],
             [
              0.8888888888888888,
              "#fdca26"
             ],
             [
              1,
              "#f0f921"
             ]
            ],
            "type": "histogram2dcontour"
           }
          ],
          "mesh3d": [
           {
            "colorbar": {
             "outlinewidth": 0,
             "ticks": ""
            },
            "type": "mesh3d"
           }
          ],
          "parcoords": [
           {
            "line": {
             "colorbar": {
              "outlinewidth": 0,
              "ticks": ""
             }
            },
            "type": "parcoords"
           }
          ],
          "pie": [
           {
            "automargin": true,
            "type": "pie"
           }
          ],
          "scatter": [
           {
            "fillpattern": {
             "fillmode": "overlay",
             "size": 10,
             "solidity": 0.2
            },
            "type": "scatter"
           }
          ],
          "scatter3d": [
           {
            "line": {
             "colorbar": {
              "outlinewidth": 0,
              "ticks": ""
             }
            },
            "marker": {
             "colorbar": {
              "outlinewidth": 0,
              "ticks": ""
             }
            },
            "type": "scatter3d"
           }
          ],
          "scattercarpet": [
           {
            "marker": {
             "colorbar": {
              "outlinewidth": 0,
              "ticks": ""
             }
            },
            "type": "scattercarpet"
           }
          ],
          "scattergeo": [
           {
            "marker": {
             "colorbar": {
              "outlinewidth": 0,
              "ticks": ""
             }
            },
            "type": "scattergeo"
           }
          ],
          "scattergl": [
           {
            "marker": {
             "colorbar": {
              "outlinewidth": 0,
              "ticks": ""
             }
            },
            "type": "scattergl"
           }
          ],
          "scattermapbox": [
           {
            "marker": {
             "colorbar": {
              "outlinewidth": 0,
              "ticks": ""
             }
            },
            "type": "scattermapbox"
           }
          ],
          "scatterpolar": [
           {
            "marker": {
             "colorbar": {
              "outlinewidth": 0,
              "ticks": ""
             }
            },
            "type": "scatterpolar"
           }
          ],
          "scatterpolargl": [
           {
            "marker": {
             "colorbar": {
              "outlinewidth": 0,
              "ticks": ""
             }
            },
            "type": "scatterpolargl"
           }
          ],
          "scatterternary": [
           {
            "marker": {
             "colorbar": {
              "outlinewidth": 0,
              "ticks": ""
             }
            },
            "type": "scatterternary"
           }
          ],
          "surface": [
           {
            "colorbar": {
             "outlinewidth": 0,
             "ticks": ""
            },
            "colorscale": [
             [
              0,
              "#0d0887"
             ],
             [
              0.1111111111111111,
              "#46039f"
             ],
             [
              0.2222222222222222,
              "#7201a8"
             ],
             [
              0.3333333333333333,
              "#9c179e"
             ],
             [
              0.4444444444444444,
              "#bd3786"
             ],
             [
              0.5555555555555556,
              "#d8576b"
             ],
             [
              0.6666666666666666,
              "#ed7953"
             ],
             [
              0.7777777777777778,
              "#fb9f3a"
             ],
             [
              0.8888888888888888,
              "#fdca26"
             ],
             [
              1,
              "#f0f921"
             ]
            ],
            "type": "surface"
           }
          ],
          "table": [
           {
            "cells": {
             "fill": {
              "color": "#EBF0F8"
             },
             "line": {
              "color": "white"
             }
            },
            "header": {
             "fill": {
              "color": "#C8D4E3"
             },
             "line": {
              "color": "white"
             }
            },
            "type": "table"
           }
          ]
         },
         "layout": {
          "annotationdefaults": {
           "arrowcolor": "#2a3f5f",
           "arrowhead": 0,
           "arrowwidth": 1
          },
          "autotypenumbers": "strict",
          "coloraxis": {
           "colorbar": {
            "outlinewidth": 0,
            "ticks": ""
           }
          },
          "colorscale": {
           "diverging": [
            [
             0,
             "#8e0152"
            ],
            [
             0.1,
             "#c51b7d"
            ],
            [
             0.2,
             "#de77ae"
            ],
            [
             0.3,
             "#f1b6da"
            ],
            [
             0.4,
             "#fde0ef"
            ],
            [
             0.5,
             "#f7f7f7"
            ],
            [
             0.6,
             "#e6f5d0"
            ],
            [
             0.7,
             "#b8e186"
            ],
            [
             0.8,
             "#7fbc41"
            ],
            [
             0.9,
             "#4d9221"
            ],
            [
             1,
             "#276419"
            ]
           ],
           "sequential": [
            [
             0,
             "#0d0887"
            ],
            [
             0.1111111111111111,
             "#46039f"
            ],
            [
             0.2222222222222222,
             "#7201a8"
            ],
            [
             0.3333333333333333,
             "#9c179e"
            ],
            [
             0.4444444444444444,
             "#bd3786"
            ],
            [
             0.5555555555555556,
             "#d8576b"
            ],
            [
             0.6666666666666666,
             "#ed7953"
            ],
            [
             0.7777777777777778,
             "#fb9f3a"
            ],
            [
             0.8888888888888888,
             "#fdca26"
            ],
            [
             1,
             "#f0f921"
            ]
           ],
           "sequentialminus": [
            [
             0,
             "#0d0887"
            ],
            [
             0.1111111111111111,
             "#46039f"
            ],
            [
             0.2222222222222222,
             "#7201a8"
            ],
            [
             0.3333333333333333,
             "#9c179e"
            ],
            [
             0.4444444444444444,
             "#bd3786"
            ],
            [
             0.5555555555555556,
             "#d8576b"
            ],
            [
             0.6666666666666666,
             "#ed7953"
            ],
            [
             0.7777777777777778,
             "#fb9f3a"
            ],
            [
             0.8888888888888888,
             "#fdca26"
            ],
            [
             1,
             "#f0f921"
            ]
           ]
          },
          "colorway": [
           "#636efa",
           "#EF553B",
           "#00cc96",
           "#ab63fa",
           "#FFA15A",
           "#19d3f3",
           "#FF6692",
           "#B6E880",
           "#FF97FF",
           "#FECB52"
          ],
          "font": {
           "color": "#2a3f5f"
          },
          "geo": {
           "bgcolor": "white",
           "lakecolor": "white",
           "landcolor": "#E5ECF6",
           "showlakes": true,
           "showland": true,
           "subunitcolor": "white"
          },
          "hoverlabel": {
           "align": "left"
          },
          "hovermode": "closest",
          "mapbox": {
           "style": "light"
          },
          "paper_bgcolor": "white",
          "plot_bgcolor": "#E5ECF6",
          "polar": {
           "angularaxis": {
            "gridcolor": "white",
            "linecolor": "white",
            "ticks": ""
           },
           "bgcolor": "#E5ECF6",
           "radialaxis": {
            "gridcolor": "white",
            "linecolor": "white",
            "ticks": ""
           }
          },
          "scene": {
           "xaxis": {
            "backgroundcolor": "#E5ECF6",
            "gridcolor": "white",
            "gridwidth": 2,
            "linecolor": "white",
            "showbackground": true,
            "ticks": "",
            "zerolinecolor": "white"
           },
           "yaxis": {
            "backgroundcolor": "#E5ECF6",
            "gridcolor": "white",
            "gridwidth": 2,
            "linecolor": "white",
            "showbackground": true,
            "ticks": "",
            "zerolinecolor": "white"
           },
           "zaxis": {
            "backgroundcolor": "#E5ECF6",
            "gridcolor": "white",
            "gridwidth": 2,
            "linecolor": "white",
            "showbackground": true,
            "ticks": "",
            "zerolinecolor": "white"
           }
          },
          "shapedefaults": {
           "line": {
            "color": "#2a3f5f"
           }
          },
          "ternary": {
           "aaxis": {
            "gridcolor": "white",
            "linecolor": "white",
            "ticks": ""
           },
           "baxis": {
            "gridcolor": "white",
            "linecolor": "white",
            "ticks": ""
           },
           "bgcolor": "#E5ECF6",
           "caxis": {
            "gridcolor": "white",
            "linecolor": "white",
            "ticks": ""
           }
          },
          "title": {
           "x": 0.05
          },
          "xaxis": {
           "automargin": true,
           "gridcolor": "white",
           "linecolor": "white",
           "ticks": "",
           "title": {
            "standoff": 15
           },
           "zerolinecolor": "white",
           "zerolinewidth": 2
          },
          "yaxis": {
           "automargin": true,
           "gridcolor": "white",
           "linecolor": "white",
           "ticks": "",
           "title": {
            "standoff": 15
           },
           "zerolinecolor": "white",
           "zerolinewidth": 2
          }
         }
        },
        "title": {
         "text": "Optimization History Plot"
        },
        "xaxis": {
         "title": {
          "text": "Trial"
         }
        },
        "yaxis": {
         "title": {
          "text": "Objective Value"
         }
        }
       }
      }
     },
     "metadata": {},
     "output_type": "display_data"
    }
   ],
   "source": [
    "\n",
    "# logの書き込み\n",
    "with open(\"log.txt\", \"w\") as f:\n",
    "    f.write(\n",
    "        \"best_score:{:.2f}, a:{}, b:{}, c:{}, using_testcase_num:{}, total_testcase_num:{}, n_trials:{}\\n\".format(\n",
    "            study.best_value,\n",
    "            study.best_params[\"a\"],\n",
    "            study.best_params[\"b\"],\n",
    "            study.best_params[\"c\"],\n",
    "            using_testcase_num,\n",
    "            total_testcase_num,\n",
    "            n_trials,\n",
    "        )\n",
    "    )\n",
    "    f.close()\n",
    "\n",
    "# 探索過程の可視化\n",
    "fig = optuna.visualization.plot_optimization_history(study)\n",
    "fig.show()"
   ]
  },
  {
   "cell_type": "code",
   "execution_count": null,
   "metadata": {},
   "outputs": [],
   "source": []
  }
 ],
 "metadata": {
  "kernelspec": {
   "display_name": "Python 3.10.4 64-bit ('3.10.4')",
   "language": "python",
   "name": "python3"
  },
  "language_info": {
   "codemirror_mode": {
    "name": "ipython",
    "version": 3
   },
   "file_extension": ".py",
   "mimetype": "text/x-python",
   "name": "python",
   "nbconvert_exporter": "python",
   "pygments_lexer": "ipython3",
   "version": "3.10.4"
  },
  "orig_nbformat": 4,
  "vscode": {
   "interpreter": {
    "hash": "2a5fb540920344d2a30df49d123c0d51f1e8fc17e24494fc3a54f6f29186e4c7"
   }
  }
 },
 "nbformat": 4,
 "nbformat_minor": 2
}
